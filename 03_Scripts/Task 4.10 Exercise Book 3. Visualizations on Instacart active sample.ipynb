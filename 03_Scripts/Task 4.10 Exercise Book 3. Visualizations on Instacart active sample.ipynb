{
 "cells": [
  {
   "cell_type": "markdown",
   "id": "0e28477f",
   "metadata": {},
   "source": [
    "# Task 4.10 - Book 2.  Visualizations on Instacart active sample"
   ]
  },
  {
   "cell_type": "markdown",
   "id": "f473844c",
   "metadata": {},
   "source": [
    "## The marketing and business strategy units at Instacart want to create more-relevant marketing strategies for different products and are, thus, curious about customer profiling in their database. Create a profiling variable based on age, income, certain goods in the “department_id” column, and number of dependents. You might also use the “orders_day_of_the_week” and “order_hour_of_day” columns if you can think of a way they would impact customer profiles. (Hint: As an example, try thinking of what characteristics would lead you to the profile “Single adult” or “Young parent.”)"
   ]
  },
  {
   "cell_type": "markdown",
   "id": "1f99e5e7",
   "metadata": {},
   "source": [
    "##  The cop_sample_active dataframe created in Book 2 will be used to profile customers likes and interests."
   ]
  },
  {
   "cell_type": "markdown",
   "id": "3d3d5a26",
   "metadata": {},
   "source": [
    "# This script contains the following points:\n",
    "\n",
    "## 1. Import cop_sample_active dataframe\n",
    "\n",
    "## 2. Analyze the small sample\n",
    "\n",
    "   ### Department id bar graph\n",
    "   \n",
    "   ### Loyalty bar graph for df_cust\n",
    "   \n",
    "   ### Expenditure by region line graph\n",
    "   \n",
    "   ### Price range bar graph\n",
    "   \n",
    "   ### Age and family status line graph \n",
    "   \n",
    "   ### Expenditures line graph by age\n",
    "   \n",
    "   ### Income line graph by age\n",
    "   \n",
    "   ### Expenditures line graph by time of day\n",
    "   \n",
    "   ### Histogram by time of day\n",
    "   \n",
    "   ### Orders by day of the week\n",
    "   \n",
    "   ### Scatterplot of spending power by age\n",
    "  \n",
    " ## 10. Aggregate the max, mean, and min variables on a customer-profile level for usage frequency and expenditure.\n"
   ]
  },
  {
   "cell_type": "code",
   "execution_count": 1,
   "id": "6a62dca3",
   "metadata": {},
   "outputs": [],
   "source": [
    "# Import panda, numpy, os libraries\n",
    "\n",
    "import pandas as pd\n",
    "import numpy as np\n",
    "import os"
   ]
  },
  {
   "cell_type": "markdown",
   "id": "b36a0143",
   "metadata": {},
   "source": [
    "## 1. Import cop_sample_active dataframe"
   ]
  },
  {
   "cell_type": "code",
   "execution_count": 2,
   "id": "f35ab1e5",
   "metadata": {},
   "outputs": [],
   "source": [
    "path = r'C:\\Users\\howl6\\OneDrive\\Certificates\\CareerFoundry\\Coursework\\Data_Immersion\\Chapter 4\\Instacart Basket Analysis'"
   ]
  },
  {
   "cell_type": "code",
   "execution_count": 3,
   "id": "85be8d3a",
   "metadata": {},
   "outputs": [],
   "source": [
    "# Import small_cop_sample dataframe\n",
    "\n",
    "df_cust = pd.read_pickle(os.path.join(path,'02_Data','Prepared_Data', 'cop_sample_active.pkl'))"
   ]
  },
  {
   "cell_type": "code",
   "execution_count": 4,
   "id": "32d28fdf",
   "metadata": {},
   "outputs": [
    {
     "data": {
      "text/html": [
       "<div>\n",
       "<style scoped>\n",
       "    .dataframe tbody tr th:only-of-type {\n",
       "        vertical-align: middle;\n",
       "    }\n",
       "\n",
       "    .dataframe tbody tr th {\n",
       "        vertical-align: top;\n",
       "    }\n",
       "\n",
       "    .dataframe thead th {\n",
       "        text-align: right;\n",
       "    }\n",
       "</style>\n",
       "<table border=\"1\" class=\"dataframe\">\n",
       "  <thead>\n",
       "    <tr style=\"text-align: right;\">\n",
       "      <th></th>\n",
       "      <th>product_id</th>\n",
       "      <th>product_name</th>\n",
       "      <th>aisle_id</th>\n",
       "      <th>department_id</th>\n",
       "      <th>prices</th>\n",
       "      <th>order_id</th>\n",
       "      <th>user_id</th>\n",
       "      <th>order_number</th>\n",
       "      <th>orders_day_of_week</th>\n",
       "      <th>order_time_of_day</th>\n",
       "      <th>...</th>\n",
       "      <th>gender</th>\n",
       "      <th>state</th>\n",
       "      <th>age</th>\n",
       "      <th>date_joined</th>\n",
       "      <th>num_of_dependants</th>\n",
       "      <th>family_status</th>\n",
       "      <th>income</th>\n",
       "      <th>_merge</th>\n",
       "      <th>region</th>\n",
       "      <th>activity_flag</th>\n",
       "    </tr>\n",
       "  </thead>\n",
       "  <tbody>\n",
       "    <tr>\n",
       "      <th>0</th>\n",
       "      <td>1</td>\n",
       "      <td>Chocolate Sandwich Cookies</td>\n",
       "      <td>61</td>\n",
       "      <td>19</td>\n",
       "      <td>5.8</td>\n",
       "      <td>3139998</td>\n",
       "      <td>138</td>\n",
       "      <td>28</td>\n",
       "      <td>6</td>\n",
       "      <td>11</td>\n",
       "      <td>...</td>\n",
       "      <td>Male</td>\n",
       "      <td>Minnesota</td>\n",
       "      <td>81</td>\n",
       "      <td>8/1/2019</td>\n",
       "      <td>1</td>\n",
       "      <td>married</td>\n",
       "      <td>49620</td>\n",
       "      <td>both</td>\n",
       "      <td>midwest_region</td>\n",
       "      <td>active</td>\n",
       "    </tr>\n",
       "    <tr>\n",
       "      <th>3</th>\n",
       "      <td>907</td>\n",
       "      <td>Premium Sliced Bacon</td>\n",
       "      <td>106</td>\n",
       "      <td>12</td>\n",
       "      <td>20.0</td>\n",
       "      <td>2254091</td>\n",
       "      <td>138</td>\n",
       "      <td>10</td>\n",
       "      <td>5</td>\n",
       "      <td>14</td>\n",
       "      <td>...</td>\n",
       "      <td>Male</td>\n",
       "      <td>Minnesota</td>\n",
       "      <td>81</td>\n",
       "      <td>8/1/2019</td>\n",
       "      <td>1</td>\n",
       "      <td>married</td>\n",
       "      <td>49620</td>\n",
       "      <td>both</td>\n",
       "      <td>midwest_region</td>\n",
       "      <td>active</td>\n",
       "    </tr>\n",
       "    <tr>\n",
       "      <th>6</th>\n",
       "      <td>4913</td>\n",
       "      <td>Table Water Crackers</td>\n",
       "      <td>78</td>\n",
       "      <td>19</td>\n",
       "      <td>4.4</td>\n",
       "      <td>894221</td>\n",
       "      <td>138</td>\n",
       "      <td>23</td>\n",
       "      <td>5</td>\n",
       "      <td>13</td>\n",
       "      <td>...</td>\n",
       "      <td>Male</td>\n",
       "      <td>Minnesota</td>\n",
       "      <td>81</td>\n",
       "      <td>8/1/2019</td>\n",
       "      <td>1</td>\n",
       "      <td>married</td>\n",
       "      <td>49620</td>\n",
       "      <td>both</td>\n",
       "      <td>midwest_region</td>\n",
       "      <td>active</td>\n",
       "    </tr>\n",
       "    <tr>\n",
       "      <th>10</th>\n",
       "      <td>7987</td>\n",
       "      <td>Hazelnut Spread with Cocoa</td>\n",
       "      <td>88</td>\n",
       "      <td>13</td>\n",
       "      <td>12.8</td>\n",
       "      <td>1592314</td>\n",
       "      <td>138</td>\n",
       "      <td>5</td>\n",
       "      <td>0</td>\n",
       "      <td>9</td>\n",
       "      <td>...</td>\n",
       "      <td>Male</td>\n",
       "      <td>Minnesota</td>\n",
       "      <td>81</td>\n",
       "      <td>8/1/2019</td>\n",
       "      <td>1</td>\n",
       "      <td>married</td>\n",
       "      <td>49620</td>\n",
       "      <td>both</td>\n",
       "      <td>midwest_region</td>\n",
       "      <td>active</td>\n",
       "    </tr>\n",
       "    <tr>\n",
       "      <th>19</th>\n",
       "      <td>10473</td>\n",
       "      <td>Half And Half Cream</td>\n",
       "      <td>53</td>\n",
       "      <td>16</td>\n",
       "      <td>7.0</td>\n",
       "      <td>2823056</td>\n",
       "      <td>138</td>\n",
       "      <td>8</td>\n",
       "      <td>6</td>\n",
       "      <td>14</td>\n",
       "      <td>...</td>\n",
       "      <td>Male</td>\n",
       "      <td>Minnesota</td>\n",
       "      <td>81</td>\n",
       "      <td>8/1/2019</td>\n",
       "      <td>1</td>\n",
       "      <td>married</td>\n",
       "      <td>49620</td>\n",
       "      <td>both</td>\n",
       "      <td>midwest_region</td>\n",
       "      <td>active</td>\n",
       "    </tr>\n",
       "  </tbody>\n",
       "</table>\n",
       "<p>5 rows × 36 columns</p>\n",
       "</div>"
      ],
      "text/plain": [
       "    product_id                product_name  aisle_id  department_id  prices  \\\n",
       "0            1  Chocolate Sandwich Cookies        61             19     5.8   \n",
       "3          907        Premium Sliced Bacon       106             12    20.0   \n",
       "6         4913        Table Water Crackers        78             19     4.4   \n",
       "10        7987  Hazelnut Spread with Cocoa        88             13    12.8   \n",
       "19       10473         Half And Half Cream        53             16     7.0   \n",
       "\n",
       "    order_id user_id  order_number  orders_day_of_week  order_time_of_day  \\\n",
       "0    3139998     138            28                   6                 11   \n",
       "3    2254091     138            10                   5                 14   \n",
       "6     894221     138            23                   5                 13   \n",
       "10   1592314     138             5                   0                  9   \n",
       "19   2823056     138             8                   6                 14   \n",
       "\n",
       "    ...  gender      state  age  date_joined num_of_dependants family_status  \\\n",
       "0   ...    Male  Minnesota   81     8/1/2019                 1       married   \n",
       "3   ...    Male  Minnesota   81     8/1/2019                 1       married   \n",
       "6   ...    Male  Minnesota   81     8/1/2019                 1       married   \n",
       "10  ...    Male  Minnesota   81     8/1/2019                 1       married   \n",
       "19  ...    Male  Minnesota   81     8/1/2019                 1       married   \n",
       "\n",
       "   income _merge          region activity_flag  \n",
       "0   49620   both  midwest_region        active  \n",
       "3   49620   both  midwest_region        active  \n",
       "6   49620   both  midwest_region        active  \n",
       "10  49620   both  midwest_region        active  \n",
       "19  49620   both  midwest_region        active  \n",
       "\n",
       "[5 rows x 36 columns]"
      ]
     },
     "execution_count": 4,
     "metadata": {},
     "output_type": "execute_result"
    }
   ],
   "source": [
    "# top 5 rows\n",
    "\n",
    "df_cust.head()"
   ]
  },
  {
   "cell_type": "code",
   "execution_count": 5,
   "id": "ac7d1316",
   "metadata": {},
   "outputs": [
    {
     "data": {
      "text/html": [
       "<div>\n",
       "<style scoped>\n",
       "    .dataframe tbody tr th:only-of-type {\n",
       "        vertical-align: middle;\n",
       "    }\n",
       "\n",
       "    .dataframe tbody tr th {\n",
       "        vertical-align: top;\n",
       "    }\n",
       "\n",
       "    .dataframe thead th {\n",
       "        text-align: right;\n",
       "    }\n",
       "</style>\n",
       "<table border=\"1\" class=\"dataframe\">\n",
       "  <thead>\n",
       "    <tr style=\"text-align: right;\">\n",
       "      <th></th>\n",
       "      <th>product_id</th>\n",
       "      <th>product_name</th>\n",
       "      <th>aisle_id</th>\n",
       "      <th>department_id</th>\n",
       "      <th>prices</th>\n",
       "      <th>order_id</th>\n",
       "      <th>user_id</th>\n",
       "      <th>order_number</th>\n",
       "      <th>orders_day_of_week</th>\n",
       "      <th>order_time_of_day</th>\n",
       "      <th>...</th>\n",
       "      <th>gender</th>\n",
       "      <th>state</th>\n",
       "      <th>age</th>\n",
       "      <th>date_joined</th>\n",
       "      <th>num_of_dependants</th>\n",
       "      <th>family_status</th>\n",
       "      <th>income</th>\n",
       "      <th>_merge</th>\n",
       "      <th>region</th>\n",
       "      <th>activity_flag</th>\n",
       "    </tr>\n",
       "  </thead>\n",
       "  <tbody>\n",
       "    <tr>\n",
       "      <th>32404779</th>\n",
       "      <td>49683</td>\n",
       "      <td>Cucumber Kirby</td>\n",
       "      <td>83</td>\n",
       "      <td>4</td>\n",
       "      <td>13.2</td>\n",
       "      <td>2070022</td>\n",
       "      <td>169498</td>\n",
       "      <td>5</td>\n",
       "      <td>3</td>\n",
       "      <td>16</td>\n",
       "      <td>...</td>\n",
       "      <td>Female</td>\n",
       "      <td>New Jersey</td>\n",
       "      <td>47</td>\n",
       "      <td>9/23/2017</td>\n",
       "      <td>3</td>\n",
       "      <td>married</td>\n",
       "      <td>150640</td>\n",
       "      <td>both</td>\n",
       "      <td>northeast_region</td>\n",
       "      <td>active</td>\n",
       "    </tr>\n",
       "    <tr>\n",
       "      <th>32404792</th>\n",
       "      <td>47388</td>\n",
       "      <td>Organic Plain Kefir</td>\n",
       "      <td>120</td>\n",
       "      <td>16</td>\n",
       "      <td>14.5</td>\n",
       "      <td>2246875</td>\n",
       "      <td>28213</td>\n",
       "      <td>9</td>\n",
       "      <td>0</td>\n",
       "      <td>12</td>\n",
       "      <td>...</td>\n",
       "      <td>Male</td>\n",
       "      <td>Florida</td>\n",
       "      <td>41</td>\n",
       "      <td>11/16/2019</td>\n",
       "      <td>2</td>\n",
       "      <td>married</td>\n",
       "      <td>146721</td>\n",
       "      <td>both</td>\n",
       "      <td>south_region</td>\n",
       "      <td>active</td>\n",
       "    </tr>\n",
       "    <tr>\n",
       "      <th>32404801</th>\n",
       "      <td>47823</td>\n",
       "      <td>Organic Vanilla Kefir</td>\n",
       "      <td>120</td>\n",
       "      <td>16</td>\n",
       "      <td>13.5</td>\n",
       "      <td>2246875</td>\n",
       "      <td>28213</td>\n",
       "      <td>9</td>\n",
       "      <td>0</td>\n",
       "      <td>12</td>\n",
       "      <td>...</td>\n",
       "      <td>Male</td>\n",
       "      <td>Florida</td>\n",
       "      <td>41</td>\n",
       "      <td>11/16/2019</td>\n",
       "      <td>2</td>\n",
       "      <td>married</td>\n",
       "      <td>146721</td>\n",
       "      <td>both</td>\n",
       "      <td>south_region</td>\n",
       "      <td>active</td>\n",
       "    </tr>\n",
       "    <tr>\n",
       "      <th>32404835</th>\n",
       "      <td>49070</td>\n",
       "      <td>TEN TEN</td>\n",
       "      <td>77</td>\n",
       "      <td>7</td>\n",
       "      <td>2.3</td>\n",
       "      <td>2818658</td>\n",
       "      <td>31628</td>\n",
       "      <td>5</td>\n",
       "      <td>3</td>\n",
       "      <td>13</td>\n",
       "      <td>...</td>\n",
       "      <td>Male</td>\n",
       "      <td>Delaware</td>\n",
       "      <td>32</td>\n",
       "      <td>7/2/2017</td>\n",
       "      <td>2</td>\n",
       "      <td>married</td>\n",
       "      <td>42899</td>\n",
       "      <td>both</td>\n",
       "      <td>south_region</td>\n",
       "      <td>active</td>\n",
       "    </tr>\n",
       "    <tr>\n",
       "      <th>32404843</th>\n",
       "      <td>49235</td>\n",
       "      <td>Organic Half &amp; Half</td>\n",
       "      <td>53</td>\n",
       "      <td>16</td>\n",
       "      <td>1.8</td>\n",
       "      <td>3310701</td>\n",
       "      <td>27382</td>\n",
       "      <td>5</td>\n",
       "      <td>3</td>\n",
       "      <td>9</td>\n",
       "      <td>...</td>\n",
       "      <td>Female</td>\n",
       "      <td>Vermont</td>\n",
       "      <td>68</td>\n",
       "      <td>11/25/2019</td>\n",
       "      <td>3</td>\n",
       "      <td>married</td>\n",
       "      <td>37867</td>\n",
       "      <td>both</td>\n",
       "      <td>northeast_region</td>\n",
       "      <td>active</td>\n",
       "    </tr>\n",
       "  </tbody>\n",
       "</table>\n",
       "<p>5 rows × 36 columns</p>\n",
       "</div>"
      ],
      "text/plain": [
       "          product_id           product_name  aisle_id  department_id  prices  \\\n",
       "32404779       49683         Cucumber Kirby        83              4    13.2   \n",
       "32404792       47388    Organic Plain Kefir       120             16    14.5   \n",
       "32404801       47823  Organic Vanilla Kefir       120             16    13.5   \n",
       "32404835       49070                TEN TEN        77              7     2.3   \n",
       "32404843       49235    Organic Half & Half        53             16     1.8   \n",
       "\n",
       "          order_id user_id  order_number  orders_day_of_week  \\\n",
       "32404779   2070022  169498             5                   3   \n",
       "32404792   2246875   28213             9                   0   \n",
       "32404801   2246875   28213             9                   0   \n",
       "32404835   2818658   31628             5                   3   \n",
       "32404843   3310701   27382             5                   3   \n",
       "\n",
       "          order_time_of_day  ...  gender       state  age  date_joined  \\\n",
       "32404779                 16  ...  Female  New Jersey   47    9/23/2017   \n",
       "32404792                 12  ...    Male     Florida   41   11/16/2019   \n",
       "32404801                 12  ...    Male     Florida   41   11/16/2019   \n",
       "32404835                 13  ...    Male    Delaware   32     7/2/2017   \n",
       "32404843                  9  ...  Female     Vermont   68   11/25/2019   \n",
       "\n",
       "         num_of_dependants family_status  income _merge            region  \\\n",
       "32404779                 3       married  150640   both  northeast_region   \n",
       "32404792                 2       married  146721   both      south_region   \n",
       "32404801                 2       married  146721   both      south_region   \n",
       "32404835                 2       married   42899   both      south_region   \n",
       "32404843                 3       married   37867   both  northeast_region   \n",
       "\n",
       "         activity_flag  \n",
       "32404779        active  \n",
       "32404792        active  \n",
       "32404801        active  \n",
       "32404835        active  \n",
       "32404843        active  \n",
       "\n",
       "[5 rows x 36 columns]"
      ]
     },
     "execution_count": 5,
     "metadata": {},
     "output_type": "execute_result"
    }
   ],
   "source": [
    "# bottom 5 rows\n",
    "\n",
    "df_cust.tail()"
   ]
  },
  {
   "cell_type": "code",
   "execution_count": 6,
   "id": "f3e7db76",
   "metadata": {},
   "outputs": [
    {
     "data": {
      "text/plain": [
       "product_id                    int64\n",
       "product_name                 object\n",
       "aisle_id                      int64\n",
       "department_id                 int64\n",
       "prices                      float64\n",
       "order_id                      int64\n",
       "user_id                      object\n",
       "order_number                  int64\n",
       "orders_day_of_week            int64\n",
       "order_time_of_day             int64\n",
       "days_since_prior_order      float64\n",
       "first_time_order               bool\n",
       "add_to_cart_order             int64\n",
       "reordered                     int64\n",
       "price_range_loc              object\n",
       "busiest_day                  object\n",
       "busiest_days                 object\n",
       "busiest_period_of_day        object\n",
       "max_order                     int64\n",
       "loyalty_flag                 object\n",
       "mean_prices                 float64\n",
       "spending_flag                object\n",
       "median_days_prior_order     float64\n",
       "frequency_flag               object\n",
       "first_name                   object\n",
       "surname                      object\n",
       "gender                       object\n",
       "state                        object\n",
       "age                           int64\n",
       "date_joined                  object\n",
       "num_of_dependants             int64\n",
       "family_status                object\n",
       "income                        int64\n",
       "_merge                     category\n",
       "region                       object\n",
       "activity_flag                object\n",
       "dtype: object"
      ]
     },
     "execution_count": 6,
     "metadata": {},
     "output_type": "execute_result"
    }
   ],
   "source": [
    "# Data types\n",
    "\n",
    "df_cust.dtypes"
   ]
  },
  {
   "cell_type": "code",
   "execution_count": 7,
   "id": "d7937307",
   "metadata": {},
   "outputs": [
    {
     "data": {
      "text/plain": [
       "(7323504, 36)"
      ]
     },
     "execution_count": 7,
     "metadata": {},
     "output_type": "execute_result"
    }
   ],
   "source": [
    "# size of dataframe\n",
    "\n",
    "df_cust.shape"
   ]
  },
  {
   "cell_type": "code",
   "execution_count": 8,
   "id": "8b55501f",
   "metadata": {},
   "outputs": [
    {
     "data": {
      "text/html": [
       "<div>\n",
       "<style scoped>\n",
       "    .dataframe tbody tr th:only-of-type {\n",
       "        vertical-align: middle;\n",
       "    }\n",
       "\n",
       "    .dataframe tbody tr th {\n",
       "        vertical-align: top;\n",
       "    }\n",
       "\n",
       "    .dataframe thead th {\n",
       "        text-align: right;\n",
       "    }\n",
       "</style>\n",
       "<table border=\"1\" class=\"dataframe\">\n",
       "  <thead>\n",
       "    <tr style=\"text-align: right;\">\n",
       "      <th></th>\n",
       "      <th>product_id</th>\n",
       "      <th>aisle_id</th>\n",
       "      <th>department_id</th>\n",
       "      <th>prices</th>\n",
       "      <th>order_id</th>\n",
       "      <th>order_number</th>\n",
       "      <th>orders_day_of_week</th>\n",
       "      <th>order_time_of_day</th>\n",
       "      <th>days_since_prior_order</th>\n",
       "      <th>add_to_cart_order</th>\n",
       "      <th>reordered</th>\n",
       "      <th>max_order</th>\n",
       "      <th>mean_prices</th>\n",
       "      <th>median_days_prior_order</th>\n",
       "      <th>age</th>\n",
       "      <th>num_of_dependants</th>\n",
       "      <th>income</th>\n",
       "    </tr>\n",
       "  </thead>\n",
       "  <tbody>\n",
       "    <tr>\n",
       "      <th>count</th>\n",
       "      <td>7.323504e+06</td>\n",
       "      <td>7.323504e+06</td>\n",
       "      <td>7.323504e+06</td>\n",
       "      <td>7.323504e+06</td>\n",
       "      <td>7.323504e+06</td>\n",
       "      <td>7.323504e+06</td>\n",
       "      <td>7.323504e+06</td>\n",
       "      <td>7.323504e+06</td>\n",
       "      <td>7.323504e+06</td>\n",
       "      <td>7.323504e+06</td>\n",
       "      <td>7.323504e+06</td>\n",
       "      <td>7.323504e+06</td>\n",
       "      <td>7.323504e+06</td>\n",
       "      <td>7.323504e+06</td>\n",
       "      <td>7.323504e+06</td>\n",
       "      <td>7.323504e+06</td>\n",
       "      <td>7.323504e+06</td>\n",
       "    </tr>\n",
       "    <tr>\n",
       "      <th>mean</th>\n",
       "      <td>2.559134e+04</td>\n",
       "      <td>7.117049e+01</td>\n",
       "      <td>9.926925e+00</td>\n",
       "      <td>1.171897e+01</td>\n",
       "      <td>1.710041e+06</td>\n",
       "      <td>2.194956e+01</td>\n",
       "      <td>2.747439e+00</td>\n",
       "      <td>1.336154e+01</td>\n",
       "      <td>1.008628e+01</td>\n",
       "      <td>8.375121e+00</td>\n",
       "      <td>6.931676e-01</td>\n",
       "      <td>3.848845e+01</td>\n",
       "      <td>1.173141e+01</td>\n",
       "      <td>8.951742e+00</td>\n",
       "      <td>4.945896e+01</td>\n",
       "      <td>1.501986e+00</td>\n",
       "      <td>9.990764e+04</td>\n",
       "    </tr>\n",
       "    <tr>\n",
       "      <th>std</th>\n",
       "      <td>1.407492e+04</td>\n",
       "      <td>3.823449e+01</td>\n",
       "      <td>6.282344e+00</td>\n",
       "      <td>4.764153e+02</td>\n",
       "      <td>9.874093e+05</td>\n",
       "      <td>1.772100e+01</td>\n",
       "      <td>2.084054e+00</td>\n",
       "      <td>4.245814e+00</td>\n",
       "      <td>8.140838e+00</td>\n",
       "      <td>7.162259e+00</td>\n",
       "      <td>4.611792e-01</td>\n",
       "      <td>2.502359e+01</td>\n",
       "      <td>7.442565e+01</td>\n",
       "      <td>5.791631e+00</td>\n",
       "      <td>1.848684e+01</td>\n",
       "      <td>1.119082e+00</td>\n",
       "      <td>4.337842e+04</td>\n",
       "    </tr>\n",
       "    <tr>\n",
       "      <th>min</th>\n",
       "      <td>1.000000e+00</td>\n",
       "      <td>1.000000e+00</td>\n",
       "      <td>1.000000e+00</td>\n",
       "      <td>1.000000e+00</td>\n",
       "      <td>3.000000e+00</td>\n",
       "      <td>5.000000e+00</td>\n",
       "      <td>0.000000e+00</td>\n",
       "      <td>0.000000e+00</td>\n",
       "      <td>0.000000e+00</td>\n",
       "      <td>1.000000e+00</td>\n",
       "      <td>0.000000e+00</td>\n",
       "      <td>5.000000e+00</td>\n",
       "      <td>1.000000e+00</td>\n",
       "      <td>0.000000e+00</td>\n",
       "      <td>1.800000e+01</td>\n",
       "      <td>0.000000e+00</td>\n",
       "      <td>2.590300e+04</td>\n",
       "    </tr>\n",
       "    <tr>\n",
       "      <th>25%</th>\n",
       "      <td>1.353500e+04</td>\n",
       "      <td>3.100000e+01</td>\n",
       "      <td>4.000000e+00</td>\n",
       "      <td>4.200000e+00</td>\n",
       "      <td>8.558568e+05</td>\n",
       "      <td>9.000000e+00</td>\n",
       "      <td>1.000000e+00</td>\n",
       "      <td>1.000000e+01</td>\n",
       "      <td>4.000000e+00</td>\n",
       "      <td>3.000000e+00</td>\n",
       "      <td>0.000000e+00</td>\n",
       "      <td>1.800000e+01</td>\n",
       "      <td>7.398759e+00</td>\n",
       "      <td>5.000000e+00</td>\n",
       "      <td>3.300000e+01</td>\n",
       "      <td>0.000000e+00</td>\n",
       "      <td>6.751100e+04</td>\n",
       "    </tr>\n",
       "    <tr>\n",
       "      <th>50%</th>\n",
       "      <td>2.525200e+04</td>\n",
       "      <td>8.300000e+01</td>\n",
       "      <td>9.000000e+00</td>\n",
       "      <td>7.400000e+00</td>\n",
       "      <td>1.710000e+06</td>\n",
       "      <td>1.600000e+01</td>\n",
       "      <td>3.000000e+00</td>\n",
       "      <td>1.300000e+01</td>\n",
       "      <td>7.000000e+00</td>\n",
       "      <td>6.000000e+00</td>\n",
       "      <td>1.000000e+00</td>\n",
       "      <td>3.300000e+01</td>\n",
       "      <td>7.824403e+00</td>\n",
       "      <td>7.000000e+00</td>\n",
       "      <td>4.900000e+01</td>\n",
       "      <td>2.000000e+00</td>\n",
       "      <td>9.685300e+04</td>\n",
       "    </tr>\n",
       "    <tr>\n",
       "      <th>75%</th>\n",
       "      <td>3.793800e+04</td>\n",
       "      <td>1.070000e+02</td>\n",
       "      <td>1.600000e+01</td>\n",
       "      <td>1.130000e+01</td>\n",
       "      <td>2.565187e+06</td>\n",
       "      <td>2.900000e+01</td>\n",
       "      <td>5.000000e+00</td>\n",
       "      <td>1.600000e+01</td>\n",
       "      <td>1.300000e+01</td>\n",
       "      <td>1.100000e+01</td>\n",
       "      <td>1.000000e+00</td>\n",
       "      <td>5.200000e+01</td>\n",
       "      <td>8.240554e+00</td>\n",
       "      <td>1.100000e+01</td>\n",
       "      <td>6.500000e+01</td>\n",
       "      <td>3.000000e+00</td>\n",
       "      <td>1.281690e+05</td>\n",
       "    </tr>\n",
       "    <tr>\n",
       "      <th>max</th>\n",
       "      <td>4.968800e+04</td>\n",
       "      <td>1.340000e+02</td>\n",
       "      <td>2.100000e+01</td>\n",
       "      <td>9.999900e+04</td>\n",
       "      <td>3.421083e+06</td>\n",
       "      <td>9.900000e+01</td>\n",
       "      <td>6.000000e+00</td>\n",
       "      <td>2.300000e+01</td>\n",
       "      <td>3.000000e+01</td>\n",
       "      <td>1.360000e+02</td>\n",
       "      <td>1.000000e+00</td>\n",
       "      <td>9.900000e+01</td>\n",
       "      <td>1.500694e+04</td>\n",
       "      <td>3.000000e+01</td>\n",
       "      <td>8.100000e+01</td>\n",
       "      <td>3.000000e+00</td>\n",
       "      <td>5.939010e+05</td>\n",
       "    </tr>\n",
       "  </tbody>\n",
       "</table>\n",
       "</div>"
      ],
      "text/plain": [
       "         product_id      aisle_id  department_id        prices      order_id  \\\n",
       "count  7.323504e+06  7.323504e+06   7.323504e+06  7.323504e+06  7.323504e+06   \n",
       "mean   2.559134e+04  7.117049e+01   9.926925e+00  1.171897e+01  1.710041e+06   \n",
       "std    1.407492e+04  3.823449e+01   6.282344e+00  4.764153e+02  9.874093e+05   \n",
       "min    1.000000e+00  1.000000e+00   1.000000e+00  1.000000e+00  3.000000e+00   \n",
       "25%    1.353500e+04  3.100000e+01   4.000000e+00  4.200000e+00  8.558568e+05   \n",
       "50%    2.525200e+04  8.300000e+01   9.000000e+00  7.400000e+00  1.710000e+06   \n",
       "75%    3.793800e+04  1.070000e+02   1.600000e+01  1.130000e+01  2.565187e+06   \n",
       "max    4.968800e+04  1.340000e+02   2.100000e+01  9.999900e+04  3.421083e+06   \n",
       "\n",
       "       order_number  orders_day_of_week  order_time_of_day  \\\n",
       "count  7.323504e+06        7.323504e+06       7.323504e+06   \n",
       "mean   2.194956e+01        2.747439e+00       1.336154e+01   \n",
       "std    1.772100e+01        2.084054e+00       4.245814e+00   \n",
       "min    5.000000e+00        0.000000e+00       0.000000e+00   \n",
       "25%    9.000000e+00        1.000000e+00       1.000000e+01   \n",
       "50%    1.600000e+01        3.000000e+00       1.300000e+01   \n",
       "75%    2.900000e+01        5.000000e+00       1.600000e+01   \n",
       "max    9.900000e+01        6.000000e+00       2.300000e+01   \n",
       "\n",
       "       days_since_prior_order  add_to_cart_order     reordered     max_order  \\\n",
       "count            7.323504e+06       7.323504e+06  7.323504e+06  7.323504e+06   \n",
       "mean             1.008628e+01       8.375121e+00  6.931676e-01  3.848845e+01   \n",
       "std              8.140838e+00       7.162259e+00  4.611792e-01  2.502359e+01   \n",
       "min              0.000000e+00       1.000000e+00  0.000000e+00  5.000000e+00   \n",
       "25%              4.000000e+00       3.000000e+00  0.000000e+00  1.800000e+01   \n",
       "50%              7.000000e+00       6.000000e+00  1.000000e+00  3.300000e+01   \n",
       "75%              1.300000e+01       1.100000e+01  1.000000e+00  5.200000e+01   \n",
       "max              3.000000e+01       1.360000e+02  1.000000e+00  9.900000e+01   \n",
       "\n",
       "        mean_prices  median_days_prior_order           age  num_of_dependants  \\\n",
       "count  7.323504e+06             7.323504e+06  7.323504e+06       7.323504e+06   \n",
       "mean   1.173141e+01             8.951742e+00  4.945896e+01       1.501986e+00   \n",
       "std    7.442565e+01             5.791631e+00  1.848684e+01       1.119082e+00   \n",
       "min    1.000000e+00             0.000000e+00  1.800000e+01       0.000000e+00   \n",
       "25%    7.398759e+00             5.000000e+00  3.300000e+01       0.000000e+00   \n",
       "50%    7.824403e+00             7.000000e+00  4.900000e+01       2.000000e+00   \n",
       "75%    8.240554e+00             1.100000e+01  6.500000e+01       3.000000e+00   \n",
       "max    1.500694e+04             3.000000e+01  8.100000e+01       3.000000e+00   \n",
       "\n",
       "             income  \n",
       "count  7.323504e+06  \n",
       "mean   9.990764e+04  \n",
       "std    4.337842e+04  \n",
       "min    2.590300e+04  \n",
       "25%    6.751100e+04  \n",
       "50%    9.685300e+04  \n",
       "75%    1.281690e+05  \n",
       "max    5.939010e+05  "
      ]
     },
     "execution_count": 8,
     "metadata": {},
     "output_type": "execute_result"
    }
   ],
   "source": [
    "df_cust.describe()"
   ]
  },
  {
   "cell_type": "code",
   "execution_count": 9,
   "id": "649efe60",
   "metadata": {},
   "outputs": [],
   "source": [
    "# Customer expenditure \n",
    "df_cust['spent'] = df_cust['prices'] * df_cust['order_number']"
   ]
  },
  {
   "cell_type": "code",
   "execution_count": 10,
   "id": "db1fa610",
   "metadata": {},
   "outputs": [
    {
     "data": {
      "text/html": [
       "<div>\n",
       "<style scoped>\n",
       "    .dataframe tbody tr th:only-of-type {\n",
       "        vertical-align: middle;\n",
       "    }\n",
       "\n",
       "    .dataframe tbody tr th {\n",
       "        vertical-align: top;\n",
       "    }\n",
       "\n",
       "    .dataframe thead th {\n",
       "        text-align: right;\n",
       "    }\n",
       "</style>\n",
       "<table border=\"1\" class=\"dataframe\">\n",
       "  <thead>\n",
       "    <tr style=\"text-align: right;\">\n",
       "      <th></th>\n",
       "      <th>product_id</th>\n",
       "      <th>product_name</th>\n",
       "      <th>aisle_id</th>\n",
       "      <th>department_id</th>\n",
       "      <th>prices</th>\n",
       "      <th>order_id</th>\n",
       "      <th>user_id</th>\n",
       "      <th>order_number</th>\n",
       "      <th>orders_day_of_week</th>\n",
       "      <th>order_time_of_day</th>\n",
       "      <th>...</th>\n",
       "      <th>state</th>\n",
       "      <th>age</th>\n",
       "      <th>date_joined</th>\n",
       "      <th>num_of_dependants</th>\n",
       "      <th>family_status</th>\n",
       "      <th>income</th>\n",
       "      <th>_merge</th>\n",
       "      <th>region</th>\n",
       "      <th>activity_flag</th>\n",
       "      <th>spent</th>\n",
       "    </tr>\n",
       "  </thead>\n",
       "  <tbody>\n",
       "    <tr>\n",
       "      <th>0</th>\n",
       "      <td>1</td>\n",
       "      <td>Chocolate Sandwich Cookies</td>\n",
       "      <td>61</td>\n",
       "      <td>19</td>\n",
       "      <td>5.8</td>\n",
       "      <td>3139998</td>\n",
       "      <td>138</td>\n",
       "      <td>28</td>\n",
       "      <td>6</td>\n",
       "      <td>11</td>\n",
       "      <td>...</td>\n",
       "      <td>Minnesota</td>\n",
       "      <td>81</td>\n",
       "      <td>8/1/2019</td>\n",
       "      <td>1</td>\n",
       "      <td>married</td>\n",
       "      <td>49620</td>\n",
       "      <td>both</td>\n",
       "      <td>midwest_region</td>\n",
       "      <td>active</td>\n",
       "      <td>162.4</td>\n",
       "    </tr>\n",
       "    <tr>\n",
       "      <th>3</th>\n",
       "      <td>907</td>\n",
       "      <td>Premium Sliced Bacon</td>\n",
       "      <td>106</td>\n",
       "      <td>12</td>\n",
       "      <td>20.0</td>\n",
       "      <td>2254091</td>\n",
       "      <td>138</td>\n",
       "      <td>10</td>\n",
       "      <td>5</td>\n",
       "      <td>14</td>\n",
       "      <td>...</td>\n",
       "      <td>Minnesota</td>\n",
       "      <td>81</td>\n",
       "      <td>8/1/2019</td>\n",
       "      <td>1</td>\n",
       "      <td>married</td>\n",
       "      <td>49620</td>\n",
       "      <td>both</td>\n",
       "      <td>midwest_region</td>\n",
       "      <td>active</td>\n",
       "      <td>200.0</td>\n",
       "    </tr>\n",
       "    <tr>\n",
       "      <th>6</th>\n",
       "      <td>4913</td>\n",
       "      <td>Table Water Crackers</td>\n",
       "      <td>78</td>\n",
       "      <td>19</td>\n",
       "      <td>4.4</td>\n",
       "      <td>894221</td>\n",
       "      <td>138</td>\n",
       "      <td>23</td>\n",
       "      <td>5</td>\n",
       "      <td>13</td>\n",
       "      <td>...</td>\n",
       "      <td>Minnesota</td>\n",
       "      <td>81</td>\n",
       "      <td>8/1/2019</td>\n",
       "      <td>1</td>\n",
       "      <td>married</td>\n",
       "      <td>49620</td>\n",
       "      <td>both</td>\n",
       "      <td>midwest_region</td>\n",
       "      <td>active</td>\n",
       "      <td>101.2</td>\n",
       "    </tr>\n",
       "    <tr>\n",
       "      <th>10</th>\n",
       "      <td>7987</td>\n",
       "      <td>Hazelnut Spread with Cocoa</td>\n",
       "      <td>88</td>\n",
       "      <td>13</td>\n",
       "      <td>12.8</td>\n",
       "      <td>1592314</td>\n",
       "      <td>138</td>\n",
       "      <td>5</td>\n",
       "      <td>0</td>\n",
       "      <td>9</td>\n",
       "      <td>...</td>\n",
       "      <td>Minnesota</td>\n",
       "      <td>81</td>\n",
       "      <td>8/1/2019</td>\n",
       "      <td>1</td>\n",
       "      <td>married</td>\n",
       "      <td>49620</td>\n",
       "      <td>both</td>\n",
       "      <td>midwest_region</td>\n",
       "      <td>active</td>\n",
       "      <td>64.0</td>\n",
       "    </tr>\n",
       "    <tr>\n",
       "      <th>19</th>\n",
       "      <td>10473</td>\n",
       "      <td>Half And Half Cream</td>\n",
       "      <td>53</td>\n",
       "      <td>16</td>\n",
       "      <td>7.0</td>\n",
       "      <td>2823056</td>\n",
       "      <td>138</td>\n",
       "      <td>8</td>\n",
       "      <td>6</td>\n",
       "      <td>14</td>\n",
       "      <td>...</td>\n",
       "      <td>Minnesota</td>\n",
       "      <td>81</td>\n",
       "      <td>8/1/2019</td>\n",
       "      <td>1</td>\n",
       "      <td>married</td>\n",
       "      <td>49620</td>\n",
       "      <td>both</td>\n",
       "      <td>midwest_region</td>\n",
       "      <td>active</td>\n",
       "      <td>56.0</td>\n",
       "    </tr>\n",
       "  </tbody>\n",
       "</table>\n",
       "<p>5 rows × 37 columns</p>\n",
       "</div>"
      ],
      "text/plain": [
       "    product_id                product_name  aisle_id  department_id  prices  \\\n",
       "0            1  Chocolate Sandwich Cookies        61             19     5.8   \n",
       "3          907        Premium Sliced Bacon       106             12    20.0   \n",
       "6         4913        Table Water Crackers        78             19     4.4   \n",
       "10        7987  Hazelnut Spread with Cocoa        88             13    12.8   \n",
       "19       10473         Half And Half Cream        53             16     7.0   \n",
       "\n",
       "    order_id user_id  order_number  orders_day_of_week  order_time_of_day  \\\n",
       "0    3139998     138            28                   6                 11   \n",
       "3    2254091     138            10                   5                 14   \n",
       "6     894221     138            23                   5                 13   \n",
       "10   1592314     138             5                   0                  9   \n",
       "19   2823056     138             8                   6                 14   \n",
       "\n",
       "    ...      state  age  date_joined  num_of_dependants family_status income  \\\n",
       "0   ...  Minnesota   81     8/1/2019                  1       married  49620   \n",
       "3   ...  Minnesota   81     8/1/2019                  1       married  49620   \n",
       "6   ...  Minnesota   81     8/1/2019                  1       married  49620   \n",
       "10  ...  Minnesota   81     8/1/2019                  1       married  49620   \n",
       "19  ...  Minnesota   81     8/1/2019                  1       married  49620   \n",
       "\n",
       "   _merge          region  activity_flag  spent  \n",
       "0    both  midwest_region         active  162.4  \n",
       "3    both  midwest_region         active  200.0  \n",
       "6    both  midwest_region         active  101.2  \n",
       "10   both  midwest_region         active   64.0  \n",
       "19   both  midwest_region         active   56.0  \n",
       "\n",
       "[5 rows x 37 columns]"
      ]
     },
     "execution_count": 10,
     "metadata": {},
     "output_type": "execute_result"
    }
   ],
   "source": [
    "df_cust.head()"
   ]
  },
  {
   "cell_type": "code",
   "execution_count": null,
   "id": "643dd0ae",
   "metadata": {},
   "outputs": [],
   "source": []
  },
  {
   "cell_type": "markdown",
   "id": "d9fa7b62",
   "metadata": {},
   "source": [
    "## 2. Analyze the small sample"
   ]
  },
  {
   "cell_type": "code",
   "execution_count": 11,
   "id": "06d24592",
   "metadata": {},
   "outputs": [],
   "source": [
    "# import visualization libraries\n",
    "\n",
    "import matplotlib.pyplot as plt\n",
    "import seaborn as sns\n",
    "import scipy"
   ]
  },
  {
   "cell_type": "code",
   "execution_count": null,
   "id": "3945d1e5",
   "metadata": {},
   "outputs": [],
   "source": []
  },
  {
   "cell_type": "markdown",
   "id": "64ffc783",
   "metadata": {},
   "source": [
    "### Department id bar graph"
   ]
  },
  {
   "cell_type": "code",
   "execution_count": 12,
   "id": "5d0f4fb4",
   "metadata": {},
   "outputs": [
    {
     "data": {
      "image/png": "[encoded data removed]",
      "text/plain": [
       "<Figure size 432x288 with 1 Axes>"
      ]
     },
     "metadata": {
      "needs_background": "light"
     },
     "output_type": "display_data"
    }
   ],
   "source": [
    "# create bar chart based on department_id\n",
    "\n",
    "cop_bar = df_cust['department_id'].value_counts().plot.bar()\n"
   ]
  },
  {
   "cell_type": "markdown",
   "id": "117cc243",
   "metadata": {},
   "source": [
    "### The most frequent 'department_id' counts over 50k are 4, 16, 19, 7, 1, and 13. These ids correspond to produce, dairy/eggs, snacks, beverages (non-alcoholic), frozen, and pantry, respectively. The least frequent are 5, 8, 21, 2, 10, which correspond to alcohol, pets, missing, other, and bulk."
   ]
  },
  {
   "cell_type": "code",
   "execution_count": 13,
   "id": "de124c6d",
   "metadata": {},
   "outputs": [],
   "source": [
    "# Export bar graph as png file\n",
    "\n",
    "cop_bar.figure.savefig(os.path.join(path, '04_Analysis','Visualizations', 'cop_bar.png'))"
   ]
  },
  {
   "cell_type": "markdown",
   "id": "bdcbe0bb",
   "metadata": {},
   "source": [
    "### Loyalty bar graph for df_cust"
   ]
  },
  {
   "cell_type": "code",
   "execution_count": 15,
   "id": "5c7561ee",
   "metadata": {},
   "outputs": [
    {
     "data": {
      "image/png": "[encoded data removed]",
      "text/plain": [
       "<Figure size 432x288 with 1 Axes>"
      ]
     },
     "metadata": {
      "needs_background": "light"
     },
     "output_type": "display_data"
    }
   ],
   "source": [
    "# visualization of loyality flag\n",
    "\n",
    "loyal_bar = df_cust['loyalty_flag'].value_counts().plot.bar(color =['green', 'blue', 'orange'])"
   ]
  },
  {
   "cell_type": "markdown",
   "id": "f440805b",
   "metadata": {},
   "source": [
    "### Regular customers return most frequently in this group."
   ]
  },
  {
   "cell_type": "code",
   "execution_count": 16,
   "id": "affccd48",
   "metadata": {},
   "outputs": [],
   "source": [
    "# export bar graph to png file\n",
    "\n",
    "loyal_bar.figure.savefig(os.path.join(path, '04_Analysis','Visualizations', 'loyal_bar_cop_sam.png'))"
   ]
  },
  {
   "cell_type": "code",
   "execution_count": null,
   "id": "dfb5507a",
   "metadata": {},
   "outputs": [],
   "source": []
  },
  {
   "cell_type": "markdown",
   "id": "9b75e2fb",
   "metadata": {},
   "source": [
    "### Expenditure by region line graph"
   ]
  },
  {
   "cell_type": "code",
   "execution_count": 22,
   "id": "c4d80bca",
   "metadata": {},
   "outputs": [
    {
     "data": {
      "image/png": "[encoded data removed]",
      "text/plain": [
       "<Figure size 432x288 with 1 Axes>"
      ]
     },
     "metadata": {
      "needs_background": "light"
     },
     "output_type": "display_data"
    }
   ],
   "source": [
    "# line graph based on region\n",
    "\n",
    "spend_line = sns.lineplot(data = df_cust, x = 'region', y = 'spent')"
   ]
  },
  {
   "cell_type": "markdown",
   "id": "2c4bda31",
   "metadata": {},
   "source": [
    "### Customers in the midwest and south regions are greater spenders when compared to the other three regions. The west region is slightly higher then the northeast region, which in turn is slightly higher than the pacific region. The pacific region is thereby the lowest spender by region."
   ]
  },
  {
   "cell_type": "code",
   "execution_count": 23,
   "id": "553ce3d2",
   "metadata": {},
   "outputs": [],
   "source": [
    "# export line graph as a png file\n",
    "\n",
    "spend_line.figure.savefig(os.path.join(path, '04_Analysis','Visualizations', 'region_cop_line.png'))"
   ]
  },
  {
   "cell_type": "code",
   "execution_count": null,
   "id": "c0efcd66",
   "metadata": {},
   "outputs": [],
   "source": []
  },
  {
   "cell_type": "markdown",
   "id": "948af89f",
   "metadata": {},
   "source": [
    "### Price range bar graph"
   ]
  },
  {
   "cell_type": "code",
   "execution_count": 42,
   "id": "953703f6",
   "metadata": {},
   "outputs": [
    {
     "data": {
      "image/png": "[encoded data removed]",
      "text/plain": [
       "<Figure size 432x288 with 1 Axes>"
      ]
     },
     "metadata": {
      "needs_background": "light"
     },
     "output_type": "display_data"
    }
   ],
   "source": [
    "# create price range bar chart\n",
    "\n",
    "price_rng_bar = df_cust['price_range_loc'].value_counts().plot.bar(color =['green', 'orange', 'red'])"
   ]
  },
  {
   "cell_type": "code",
   "execution_count": 47,
   "id": "adb9fa8b",
   "metadata": {},
   "outputs": [
    {
     "data": {
      "text/plain": [
       "Mid-range product     4941292\n",
       "Low-range product     2289107\n",
       "High-range product      93105\n",
       "Name: price_range_loc, dtype: int64"
      ]
     },
     "execution_count": 47,
     "metadata": {},
     "output_type": "execute_result"
    }
   ],
   "source": [
    "df_cust['price_range_loc'].value_counts(dropna = False)"
   ]
  },
  {
   "cell_type": "markdown",
   "id": "b1a3bc56",
   "metadata": {},
   "source": [
    "### Products in the mid-range were the most frequent purchases."
   ]
  },
  {
   "cell_type": "code",
   "execution_count": 43,
   "id": "7840756d",
   "metadata": {},
   "outputs": [],
   "source": [
    "# export bar graph to png file\n",
    "\n",
    "price_rng_bar.figure.savefig(os.path.join(path, '04_Analysis','Visualizations', 'price_rng_cop_sam.png'))"
   ]
  },
  {
   "cell_type": "code",
   "execution_count": null,
   "id": "0a1cfc8f",
   "metadata": {},
   "outputs": [],
   "source": []
  },
  {
   "cell_type": "markdown",
   "id": "2ee75625",
   "metadata": {},
   "source": [
    "### Age and family status line graph "
   ]
  },
  {
   "cell_type": "code",
   "execution_count": 37,
   "id": "60f1ad5c",
   "metadata": {},
   "outputs": [
    {
     "data": {
      "image/png": "[encoded data removed]",
      "text/plain": [
       "<Figure size 432x288 with 1 Axes>"
      ]
     },
     "metadata": {
      "needs_background": "light"
     },
     "output_type": "display_data"
    }
   ],
   "source": [
    "fam_line = sns.lineplot(data = df_cust, x = 'age', y = 'num_of_dependants')"
   ]
  },
  {
   "cell_type": "markdown",
   "id": "1ff6c5f9",
   "metadata": {},
   "source": [
    "### Based on the line chart, demographics for the Instacart customer suggests that number of members of the household is relatively consistent through  all age groups, in the range of 1.5 dependants. Having more than 1 dependant doesn't appear to have a strong relationship.\n"
   ]
  },
  {
   "cell_type": "code",
   "execution_count": 39,
   "id": "f4f98faf",
   "metadata": {},
   "outputs": [],
   "source": [
    "fam_line.figure.savefig(os.path.join(path, '04_Analysis','Visualizations', 'fam_cop_line.png'))"
   ]
  },
  {
   "cell_type": "code",
   "execution_count": null,
   "id": "9153e2ea",
   "metadata": {},
   "outputs": [],
   "source": []
  },
  {
   "cell_type": "markdown",
   "id": "462fc2e0",
   "metadata": {},
   "source": [
    "### Expenditures line graph by age"
   ]
  },
  {
   "cell_type": "code",
   "execution_count": 29,
   "id": "7c081ae1",
   "metadata": {},
   "outputs": [
    {
     "data": {
      "image/png": "[encoded data removed]",
      "text/plain": [
       "<Figure size 432x288 with 1 Axes>"
      ]
     },
     "metadata": {
      "needs_background": "light"
     },
     "output_type": "display_data"
    }
   ],
   "source": [
    "# line chart based on age and expenditures\n",
    "\n",
    "age_line = sns.lineplot(data = df_cust, x = 'age', y = 'spent')"
   ]
  },
  {
   "cell_type": "markdown",
   "id": "d1e54cd5",
   "metadata": {},
   "source": [
    "### Highest expenditures for this demographic were people in their mid seventies, followed by people in their mid twenties, mid thirties, and mid forties."
   ]
  },
  {
   "cell_type": "code",
   "execution_count": 31,
   "id": "4d3face7",
   "metadata": {},
   "outputs": [],
   "source": [
    "age_line.figure.savefig(os.path.join(path, '04_Analysis','Visualizations', 'age_cop_line.png'))"
   ]
  },
  {
   "cell_type": "code",
   "execution_count": null,
   "id": "4cac9bfb",
   "metadata": {},
   "outputs": [],
   "source": []
  },
  {
   "cell_type": "markdown",
   "id": "062acb56",
   "metadata": {},
   "source": [
    "### Income line graph by age"
   ]
  },
  {
   "cell_type": "code",
   "execution_count": 30,
   "id": "9de17f0a",
   "metadata": {},
   "outputs": [
    {
     "data": {
      "image/png": "[encoded data removed]",
      "text/plain": [
       "<Figure size 432x288 with 1 Axes>"
      ]
     },
     "metadata": {
      "needs_background": "light"
     },
     "output_type": "display_data"
    }
   ],
   "source": [
    "# line graph of income by age\n",
    "\n",
    "income_line = sns.lineplot(data = df_cust, x = 'age', y = 'income')"
   ]
  },
  {
   "cell_type": "markdown",
   "id": "a62f54ea",
   "metadata": {},
   "source": [
    "### Baseline income for this group is 70k, and jumped to over 110K after age forty."
   ]
  },
  {
   "cell_type": "code",
   "execution_count": 32,
   "id": "2272d40c",
   "metadata": {},
   "outputs": [],
   "source": [
    "# export line graph as a png file\n",
    "\n",
    "income_line.figure.savefig(os.path.join(path, '04_Analysis','Visualizations', 'cop_income_line.png'))"
   ]
  },
  {
   "cell_type": "code",
   "execution_count": null,
   "id": "00851171",
   "metadata": {},
   "outputs": [],
   "source": []
  },
  {
   "cell_type": "markdown",
   "id": "cf1e97c9",
   "metadata": {},
   "source": [
    "### Expenditures line graph by time of day"
   ]
  },
  {
   "cell_type": "code",
   "execution_count": 33,
   "id": "e8f26ac4",
   "metadata": {},
   "outputs": [
    {
     "data": {
      "image/png": "[encoded data removed]",
      "text/plain": [
       "<Figure size 432x288 with 1 Axes>"
      ]
     },
     "metadata": {
      "needs_background": "light"
     },
     "output_type": "display_data"
    }
   ],
   "source": [
    "# line graph of expenditures by time of day\n",
    "\n",
    "single_line = sns.lineplot(data = df_cust, x = 'order_time_of_day', y = 'spent')"
   ]
  },
  {
   "cell_type": "markdown",
   "id": "572d6e5e",
   "metadata": {},
   "source": [
    "### Spending for this group picks up sharply around 6 (24 hour clock) and steadily drops off until midnight, dropping off after midnight and picking up again between 1-2."
   ]
  },
  {
   "cell_type": "code",
   "execution_count": 34,
   "id": "4e392701",
   "metadata": {},
   "outputs": [],
   "source": [
    "# export line graph as a png file\n",
    "\n",
    "single_line.figure.savefig(os.path.join(path, '04_Analysis','Visualizations', 'cop_tod_line.png'))"
   ]
  },
  {
   "cell_type": "code",
   "execution_count": null,
   "id": "bba72985",
   "metadata": {},
   "outputs": [],
   "source": []
  },
  {
   "cell_type": "markdown",
   "id": "826ed8ce",
   "metadata": {},
   "source": [
    "### Max orders line graph by time of day"
   ]
  },
  {
   "cell_type": "code",
   "execution_count": 35,
   "id": "14a0c544",
   "metadata": {},
   "outputs": [
    {
     "data": {
      "image/png": "[encoded data removed]",
      "text/plain": [
       "<Figure size 432x288 with 1 Axes>"
      ]
     },
     "metadata": {
      "needs_background": "light"
     },
     "output_type": "display_data"
    }
   ],
   "source": [
    "# line graph of max orders by time of day\n",
    "\n",
    "single2_line = sns.lineplot(data = df_cust, x = 'order_time_of_day', y = 'max_order')"
   ]
  },
  {
   "cell_type": "markdown",
   "id": "d72f4204",
   "metadata": {},
   "source": [
    "### Max orders for this group begins to climb between 4-8, and has its highest peak around 6, and declines steadily afterward, with a smaller climb from 19-24, with a smaller peak around 21. "
   ]
  },
  {
   "cell_type": "code",
   "execution_count": 36,
   "id": "4e1aa087",
   "metadata": {},
   "outputs": [],
   "source": [
    "# export line graph as a png file\n",
    "\n",
    "single2_line.figure.savefig(os.path.join(path, '04_Analysis','Visualizations', 'cop_max_tod_line.png'))"
   ]
  },
  {
   "cell_type": "code",
   "execution_count": null,
   "id": "177898ef",
   "metadata": {},
   "outputs": [],
   "source": []
  },
  {
   "cell_type": "markdown",
   "id": "e0f09649",
   "metadata": {},
   "source": [
    "### Histogram by time of day"
   ]
  },
  {
   "cell_type": "code",
   "execution_count": 21,
   "id": "998e9796",
   "metadata": {},
   "outputs": [
    {
     "data": {
      "image/png": "[encoded data removed]",
      "text/plain": [
       "<Figure size 432x288 with 1 Axes>"
      ]
     },
     "metadata": {
      "needs_background": "light"
     },
     "output_type": "display_data"
    }
   ],
   "source": [
    "# histogram of frequency of orders by time of day\n",
    "\n",
    "tod_small_hist = df_cust['order_time_of_day'].plot.hist(bins = 100)"
   ]
  },
  {
   "cell_type": "markdown",
   "id": "5371e1ba",
   "metadata": {},
   "source": [
    "### Orders time of day peaks around 10, which mirrors the larger Instacart group."
   ]
  },
  {
   "cell_type": "code",
   "execution_count": 22,
   "id": "1b121b1e",
   "metadata": {},
   "outputs": [],
   "source": [
    "#export histogram as a png file\n",
    "\n",
    "tod_small_hist.figure.savefig(os.path.join(path, '04_Analysis','Visualizations', 'tod_small_hist.png'))"
   ]
  },
  {
   "cell_type": "code",
   "execution_count": null,
   "id": "461dae61",
   "metadata": {},
   "outputs": [],
   "source": []
  },
  {
   "cell_type": "markdown",
   "id": "91a4944a",
   "metadata": {},
   "source": [
    "### Orders by day of the week"
   ]
  },
  {
   "cell_type": "code",
   "execution_count": 26,
   "id": "abf4eee9",
   "metadata": {},
   "outputs": [
    {
     "data": {
      "image/png": "[encoded data removed]",
      "text/plain": [
       "<Figure size 432x288 with 1 Axes>"
      ]
     },
     "metadata": {
      "needs_background": "light"
     },
     "output_type": "display_data"
    }
   ],
   "source": [
    "dow_small_bar = df_cust['orders_day_of_week'].value_counts().plot.bar(color =['purple', 'red', 'pink', 'orange', 'yellow', 'green', 'blue'])"
   ]
  },
  {
   "cell_type": "code",
   "execution_count": 27,
   "id": "6392627d",
   "metadata": {},
   "outputs": [],
   "source": [
    "# export bar graph to png file\n",
    "\n",
    "dow_small_bar.figure.savefig(os.path.join(path, '04_Analysis','Visualizations', 'dow_small_bar.png'))"
   ]
  },
  {
   "cell_type": "markdown",
   "id": "c18249cb",
   "metadata": {},
   "source": [
    "### The most orders for this demographic occur on Saturday (0) and Sunday (1)."
   ]
  },
  {
   "cell_type": "code",
   "execution_count": 47,
   "id": "32fca1d1",
   "metadata": {},
   "outputs": [],
   "source": [
    "#export histogram as a png file\n",
    "\n",
    "dow_single_hist.figure.savefig(os.path.join(path, '04_Analysis','Visualizations', 'dow_single_hist.png'))"
   ]
  },
  {
   "cell_type": "code",
   "execution_count": null,
   "id": "5b60ed41",
   "metadata": {},
   "outputs": [],
   "source": []
  },
  {
   "cell_type": "markdown",
   "id": "05053b2b",
   "metadata": {},
   "source": [
    "### Scatterplot of spending power by age"
   ]
  },
  {
   "cell_type": "code",
   "execution_count": null,
   "id": "505b416e",
   "metadata": {},
   "outputs": [],
   "source": [
    "# scatterplot of age and income"
   ]
  },
  {
   "cell_type": "code",
   "execution_count": 40,
   "id": "d8e9a9de",
   "metadata": {},
   "outputs": [
    {
     "data": {
      "image/png": "[encoded data removed]",
      "text/plain": [
       "<Figure size 432x288 with 1 Axes>"
      ]
     },
     "metadata": {
      "needs_background": "light"
     },
     "output_type": "display_data"
    }
   ],
   "source": [
    "scat_power = sns.scatterplot(x = 'age', y = 'income',data = df_cust)"
   ]
  },
  {
   "cell_type": "markdown",
   "id": "8cf3fcea",
   "metadata": {},
   "source": [
    "### The scatterplot reflects a relationship between age and income, with a greater number of points noted as age and income increases, suggesting greater spending power.  The number of points between 0-60k income increases beyond age 40.\n"
   ]
  },
  {
   "cell_type": "code",
   "execution_count": 41,
   "id": "390453d6",
   "metadata": {},
   "outputs": [],
   "source": [
    "# export line graph as a png file\n",
    "\n",
    "scat_power.figure.savefig(os.path.join(path, '04_Analysis','Visualizations', 'cop_active_scatter.png'))"
   ]
  },
  {
   "cell_type": "markdown",
   "id": "0da54b2b",
   "metadata": {},
   "source": [
    "## 10. Aggregate the max, mean, and min variables on a customer-profile level for usage frequency and expenditure."
   ]
  },
  {
   "cell_type": "code",
   "execution_count": 19,
   "id": "7d0d0eb1",
   "metadata": {},
   "outputs": [
    {
     "data": {
      "text/html": [
       "<div>\n",
       "<style scoped>\n",
       "    .dataframe tbody tr th:only-of-type {\n",
       "        vertical-align: middle;\n",
       "    }\n",
       "\n",
       "    .dataframe tbody tr th {\n",
       "        vertical-align: top;\n",
       "    }\n",
       "\n",
       "    .dataframe thead tr th {\n",
       "        text-align: left;\n",
       "    }\n",
       "\n",
       "    .dataframe thead tr:last-of-type th {\n",
       "        text-align: right;\n",
       "    }\n",
       "</style>\n",
       "<table border=\"1\" class=\"dataframe\">\n",
       "  <thead>\n",
       "    <tr>\n",
       "      <th></th>\n",
       "      <th colspan=\"3\" halign=\"left\">order_number</th>\n",
       "    </tr>\n",
       "    <tr>\n",
       "      <th></th>\n",
       "      <th>mean</th>\n",
       "      <th>min</th>\n",
       "      <th>max</th>\n",
       "    </tr>\n",
       "    <tr>\n",
       "      <th>department_id</th>\n",
       "      <th></th>\n",
       "      <th></th>\n",
       "      <th></th>\n",
       "    </tr>\n",
       "  </thead>\n",
       "  <tbody>\n",
       "    <tr>\n",
       "      <th>1</th>\n",
       "      <td>20.293940</td>\n",
       "      <td>5</td>\n",
       "      <td>99</td>\n",
       "    </tr>\n",
       "    <tr>\n",
       "      <th>2</th>\n",
       "      <td>22.021892</td>\n",
       "      <td>5</td>\n",
       "      <td>99</td>\n",
       "    </tr>\n",
       "    <tr>\n",
       "      <th>3</th>\n",
       "      <td>21.987617</td>\n",
       "      <td>5</td>\n",
       "      <td>99</td>\n",
       "    </tr>\n",
       "    <tr>\n",
       "      <th>4</th>\n",
       "      <td>22.583993</td>\n",
       "      <td>5</td>\n",
       "      <td>99</td>\n",
       "    </tr>\n",
       "    <tr>\n",
       "      <th>5</th>\n",
       "      <td>20.620943</td>\n",
       "      <td>5</td>\n",
       "      <td>99</td>\n",
       "    </tr>\n",
       "    <tr>\n",
       "      <th>6</th>\n",
       "      <td>21.511336</td>\n",
       "      <td>5</td>\n",
       "      <td>99</td>\n",
       "    </tr>\n",
       "    <tr>\n",
       "      <th>7</th>\n",
       "      <td>21.971187</td>\n",
       "      <td>5</td>\n",
       "      <td>99</td>\n",
       "    </tr>\n",
       "    <tr>\n",
       "      <th>8</th>\n",
       "      <td>19.930381</td>\n",
       "      <td>5</td>\n",
       "      <td>99</td>\n",
       "    </tr>\n",
       "    <tr>\n",
       "      <th>9</th>\n",
       "      <td>20.871428</td>\n",
       "      <td>5</td>\n",
       "      <td>99</td>\n",
       "    </tr>\n",
       "    <tr>\n",
       "      <th>10</th>\n",
       "      <td>24.825109</td>\n",
       "      <td>5</td>\n",
       "      <td>99</td>\n",
       "    </tr>\n",
       "    <tr>\n",
       "      <th>11</th>\n",
       "      <td>21.139751</td>\n",
       "      <td>5</td>\n",
       "      <td>99</td>\n",
       "    </tr>\n",
       "    <tr>\n",
       "      <th>12</th>\n",
       "      <td>20.645749</td>\n",
       "      <td>5</td>\n",
       "      <td>99</td>\n",
       "    </tr>\n",
       "    <tr>\n",
       "      <th>13</th>\n",
       "      <td>21.600415</td>\n",
       "      <td>5</td>\n",
       "      <td>99</td>\n",
       "    </tr>\n",
       "    <tr>\n",
       "      <th>14</th>\n",
       "      <td>21.673748</td>\n",
       "      <td>5</td>\n",
       "      <td>99</td>\n",
       "    </tr>\n",
       "    <tr>\n",
       "      <th>15</th>\n",
       "      <td>21.018373</td>\n",
       "      <td>5</td>\n",
       "      <td>99</td>\n",
       "    </tr>\n",
       "    <tr>\n",
       "      <th>16</th>\n",
       "      <td>22.393216</td>\n",
       "      <td>5</td>\n",
       "      <td>99</td>\n",
       "    </tr>\n",
       "    <tr>\n",
       "      <th>17</th>\n",
       "      <td>20.617322</td>\n",
       "      <td>5</td>\n",
       "      <td>99</td>\n",
       "    </tr>\n",
       "    <tr>\n",
       "      <th>18</th>\n",
       "      <td>23.649176</td>\n",
       "      <td>5</td>\n",
       "      <td>99</td>\n",
       "    </tr>\n",
       "    <tr>\n",
       "      <th>19</th>\n",
       "      <td>21.881673</td>\n",
       "      <td>5</td>\n",
       "      <td>99</td>\n",
       "    </tr>\n",
       "    <tr>\n",
       "      <th>20</th>\n",
       "      <td>21.299864</td>\n",
       "      <td>5</td>\n",
       "      <td>99</td>\n",
       "    </tr>\n",
       "    <tr>\n",
       "      <th>21</th>\n",
       "      <td>27.241140</td>\n",
       "      <td>5</td>\n",
       "      <td>99</td>\n",
       "    </tr>\n",
       "  </tbody>\n",
       "</table>\n",
       "</div>"
      ],
      "text/plain": [
       "              order_number        \n",
       "                      mean min max\n",
       "department_id                     \n",
       "1                20.293940   5  99\n",
       "2                22.021892   5  99\n",
       "3                21.987617   5  99\n",
       "4                22.583993   5  99\n",
       "5                20.620943   5  99\n",
       "6                21.511336   5  99\n",
       "7                21.971187   5  99\n",
       "8                19.930381   5  99\n",
       "9                20.871428   5  99\n",
       "10               24.825109   5  99\n",
       "11               21.139751   5  99\n",
       "12               20.645749   5  99\n",
       "13               21.600415   5  99\n",
       "14               21.673748   5  99\n",
       "15               21.018373   5  99\n",
       "16               22.393216   5  99\n",
       "17               20.617322   5  99\n",
       "18               23.649176   5  99\n",
       "19               21.881673   5  99\n",
       "20               21.299864   5  99\n",
       "21               27.241140   5  99"
      ]
     },
     "execution_count": 19,
     "metadata": {},
     "output_type": "execute_result"
    }
   ],
   "source": [
    "### aggregate based on order number\n",
    "\n",
    "df_cust.groupby('department_id').agg({'order_number': ['mean', 'min', 'max']})"
   ]
  },
  {
   "cell_type": "code",
   "execution_count": 28,
   "id": "2a4bab7f",
   "metadata": {},
   "outputs": [
    {
     "data": {
      "text/html": [
       "<div>\n",
       "<style scoped>\n",
       "    .dataframe tbody tr th:only-of-type {\n",
       "        vertical-align: middle;\n",
       "    }\n",
       "\n",
       "    .dataframe tbody tr th {\n",
       "        vertical-align: top;\n",
       "    }\n",
       "\n",
       "    .dataframe thead tr th {\n",
       "        text-align: left;\n",
       "    }\n",
       "\n",
       "    .dataframe thead tr:last-of-type th {\n",
       "        text-align: right;\n",
       "    }\n",
       "</style>\n",
       "<table border=\"1\" class=\"dataframe\">\n",
       "  <thead>\n",
       "    <tr>\n",
       "      <th></th>\n",
       "      <th colspan=\"3\" halign=\"left\">spent</th>\n",
       "    </tr>\n",
       "    <tr>\n",
       "      <th></th>\n",
       "      <th>mean</th>\n",
       "      <th>min</th>\n",
       "      <th>max</th>\n",
       "    </tr>\n",
       "    <tr>\n",
       "      <th>department_id</th>\n",
       "      <th></th>\n",
       "      <th></th>\n",
       "      <th></th>\n",
       "    </tr>\n",
       "  </thead>\n",
       "  <tbody>\n",
       "    <tr>\n",
       "      <th>1</th>\n",
       "      <td>156.114085</td>\n",
       "      <td>5.0</td>\n",
       "      <td>1475.1</td>\n",
       "    </tr>\n",
       "    <tr>\n",
       "      <th>2</th>\n",
       "      <td>151.843722</td>\n",
       "      <td>6.0</td>\n",
       "      <td>1348.5</td>\n",
       "    </tr>\n",
       "    <tr>\n",
       "      <th>3</th>\n",
       "      <td>173.108114</td>\n",
       "      <td>5.0</td>\n",
       "      <td>1455.3</td>\n",
       "    </tr>\n",
       "    <tr>\n",
       "      <th>4</th>\n",
       "      <td>179.805096</td>\n",
       "      <td>5.0</td>\n",
       "      <td>1485.0</td>\n",
       "    </tr>\n",
       "    <tr>\n",
       "      <th>5</th>\n",
       "      <td>168.048081</td>\n",
       "      <td>5.0</td>\n",
       "      <td>1485.0</td>\n",
       "    </tr>\n",
       "    <tr>\n",
       "      <th>6</th>\n",
       "      <td>165.378166</td>\n",
       "      <td>5.5</td>\n",
       "      <td>1430.8</td>\n",
       "    </tr>\n",
       "    <tr>\n",
       "      <th>7</th>\n",
       "      <td>169.594315</td>\n",
       "      <td>5.0</td>\n",
       "      <td>1475.1</td>\n",
       "    </tr>\n",
       "    <tr>\n",
       "      <th>8</th>\n",
       "      <td>156.806096</td>\n",
       "      <td>5.5</td>\n",
       "      <td>1382.4</td>\n",
       "    </tr>\n",
       "    <tr>\n",
       "      <th>9</th>\n",
       "      <td>153.216276</td>\n",
       "      <td>5.0</td>\n",
       "      <td>1485.0</td>\n",
       "    </tr>\n",
       "    <tr>\n",
       "      <th>10</th>\n",
       "      <td>202.707547</td>\n",
       "      <td>8.4</td>\n",
       "      <td>1264.2</td>\n",
       "    </tr>\n",
       "    <tr>\n",
       "      <th>11</th>\n",
       "      <td>170.378585</td>\n",
       "      <td>5.0</td>\n",
       "      <td>1450.4</td>\n",
       "    </tr>\n",
       "    <tr>\n",
       "      <th>12</th>\n",
       "      <td>336.755084</td>\n",
       "      <td>40.0</td>\n",
       "      <td>2475.0</td>\n",
       "    </tr>\n",
       "    <tr>\n",
       "      <th>13</th>\n",
       "      <td>173.709984</td>\n",
       "      <td>5.0</td>\n",
       "      <td>1880.0</td>\n",
       "    </tr>\n",
       "    <tr>\n",
       "      <th>14</th>\n",
       "      <td>174.337841</td>\n",
       "      <td>5.0</td>\n",
       "      <td>1475.1</td>\n",
       "    </tr>\n",
       "    <tr>\n",
       "      <th>15</th>\n",
       "      <td>159.687546</td>\n",
       "      <td>5.0</td>\n",
       "      <td>1455.3</td>\n",
       "    </tr>\n",
       "    <tr>\n",
       "      <th>16</th>\n",
       "      <td>622.918672</td>\n",
       "      <td>5.0</td>\n",
       "      <td>5099949.0</td>\n",
       "    </tr>\n",
       "    <tr>\n",
       "      <th>17</th>\n",
       "      <td>150.911040</td>\n",
       "      <td>5.0</td>\n",
       "      <td>1470.0</td>\n",
       "    </tr>\n",
       "    <tr>\n",
       "      <th>18</th>\n",
       "      <td>178.651913</td>\n",
       "      <td>5.0</td>\n",
       "      <td>1485.0</td>\n",
       "    </tr>\n",
       "    <tr>\n",
       "      <th>19</th>\n",
       "      <td>93.364092</td>\n",
       "      <td>8.0</td>\n",
       "      <td>693.0</td>\n",
       "    </tr>\n",
       "    <tr>\n",
       "      <th>20</th>\n",
       "      <td>167.181367</td>\n",
       "      <td>5.0</td>\n",
       "      <td>1485.0</td>\n",
       "    </tr>\n",
       "    <tr>\n",
       "      <th>21</th>\n",
       "      <td>234.258715</td>\n",
       "      <td>5.5</td>\n",
       "      <td>1406.0</td>\n",
       "    </tr>\n",
       "  </tbody>\n",
       "</table>\n",
       "</div>"
      ],
      "text/plain": [
       "                    spent                 \n",
       "                     mean   min        max\n",
       "department_id                             \n",
       "1              156.114085   5.0     1475.1\n",
       "2              151.843722   6.0     1348.5\n",
       "3              173.108114   5.0     1455.3\n",
       "4              179.805096   5.0     1485.0\n",
       "5              168.048081   5.0     1485.0\n",
       "6              165.378166   5.5     1430.8\n",
       "7              169.594315   5.0     1475.1\n",
       "8              156.806096   5.5     1382.4\n",
       "9              153.216276   5.0     1485.0\n",
       "10             202.707547   8.4     1264.2\n",
       "11             170.378585   5.0     1450.4\n",
       "12             336.755084  40.0     2475.0\n",
       "13             173.709984   5.0     1880.0\n",
       "14             174.337841   5.0     1475.1\n",
       "15             159.687546   5.0     1455.3\n",
       "16             622.918672   5.0  5099949.0\n",
       "17             150.911040   5.0     1470.0\n",
       "18             178.651913   5.0     1485.0\n",
       "19              93.364092   8.0      693.0\n",
       "20             167.181367   5.0     1485.0\n",
       "21             234.258715   5.5     1406.0"
      ]
     },
     "execution_count": 28,
     "metadata": {},
     "output_type": "execute_result"
    }
   ],
   "source": [
    "### aggregate based on expenditures\n",
    "\n",
    "df_cust.groupby('department_id').agg({'spent': ['mean', 'min', 'max']})"
   ]
  }
 ],
 "metadata": {
  "kernelspec": {
   "display_name": "Python 3",
   "language": "python",
   "name": "python3"
  },
  "language_info": {
   "codemirror_mode": {
    "name": "ipython",
    "version": 3
   },
   "file_extension": ".py",
   "mimetype": "text/x-python",
   "name": "python",
   "nbconvert_exporter": "python",
   "pygments_lexer": "ipython3",
   "version": "3.8.8"
  }
 },
 "nbformat": 4,
 "nbformat_minor": 5
}
