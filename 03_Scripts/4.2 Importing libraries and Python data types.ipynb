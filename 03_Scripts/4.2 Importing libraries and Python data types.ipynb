{
 "cells": [
  {
   "cell_type": "markdown",
   "id": "123a454c",
   "metadata": {},
   "source": [
    "# 01. Importing libraries"
   ]
  },
  {
   "cell_type": "code",
   "execution_count": 2,
   "id": "41aa488c",
   "metadata": {},
   "outputs": [],
   "source": [
    "# Import libraries\n",
    "import pandas as pd\n",
    "import numpy as np\n",
    "import os"
   ]
  },
  {
   "cell_type": "markdown",
   "id": "1ade5b2f",
   "metadata": {},
   "source": [
    "# 02. Python data types"
   ]
  },
  {
   "cell_type": "code",
   "execution_count": 3,
   "id": "dc0feae1",
   "metadata": {
    "scrolled": true
   },
   "outputs": [
    {
     "name": "stdout",
     "output_type": "stream",
     "text": [
      "2\n"
     ]
    }
   ],
   "source": [
    "x = 2\n",
    "print(x)"
   ]
  },
  {
   "cell_type": "code",
   "execution_count": 4,
   "id": "788c9f21",
   "metadata": {},
   "outputs": [
    {
     "data": {
      "text/plain": [
       "int"
      ]
     },
     "execution_count": 4,
     "metadata": {},
     "output_type": "execute_result"
    }
   ],
   "source": [
    "type(x)"
   ]
  },
  {
   "cell_type": "code",
   "execution_count": 5,
   "id": "238cb6c2",
   "metadata": {},
   "outputs": [
    {
     "data": {
      "text/plain": [
       "float"
      ]
     },
     "execution_count": 5,
     "metadata": {},
     "output_type": "execute_result"
    }
   ],
   "source": [
    "y=5.678\n",
    "type(y)"
   ]
  },
  {
   "cell_type": "code",
   "execution_count": 6,
   "id": "a4ce2789",
   "metadata": {},
   "outputs": [
    {
     "data": {
      "text/plain": [
       "str"
      ]
     },
     "execution_count": 6,
     "metadata": {},
     "output_type": "execute_result"
    }
   ],
   "source": [
    "z='Brazil'\n",
    "type(z)"
   ]
  },
  {
   "cell_type": "code",
   "execution_count": 8,
   "id": "addd3116",
   "metadata": {},
   "outputs": [
    {
     "data": {
      "text/plain": [
       "bool"
      ]
     },
     "execution_count": 8,
     "metadata": {},
     "output_type": "execute_result"
    }
   ],
   "source": [
    "type(True)"
   ]
  },
  {
   "cell_type": "code",
   "execution_count": 9,
   "id": "32677128",
   "metadata": {},
   "outputs": [
    {
     "name": "stdout",
     "output_type": "stream",
     "text": [
      "2\n"
     ]
    }
   ],
   "source": [
    "x+4\n",
    "print(x)"
   ]
  },
  {
   "cell_type": "code",
   "execution_count": 10,
   "id": "0753ed79",
   "metadata": {},
   "outputs": [
    {
     "data": {
      "text/plain": [
       "6"
      ]
     },
     "execution_count": 10,
     "metadata": {},
     "output_type": "execute_result"
    }
   ],
   "source": [
    "x+4"
   ]
  },
  {
   "cell_type": "code",
   "execution_count": 11,
   "id": "441f24e3",
   "metadata": {},
   "outputs": [
    {
     "data": {
      "text/plain": [
       "7.678"
      ]
     },
     "execution_count": 11,
     "metadata": {},
     "output_type": "execute_result"
    }
   ],
   "source": [
    "x+y"
   ]
  },
  {
   "cell_type": "code",
   "execution_count": 12,
   "id": "053a9d81",
   "metadata": {},
   "outputs": [],
   "source": [
    "x=x+4"
   ]
  },
  {
   "cell_type": "code",
   "execution_count": 13,
   "id": "cf843a8d",
   "metadata": {},
   "outputs": [
    {
     "name": "stdout",
     "output_type": "stream",
     "text": [
      "6\n"
     ]
    }
   ],
   "source": [
    "print(x)"
   ]
  },
  {
   "cell_type": "code",
   "execution_count": 14,
   "id": "e22c44ca",
   "metadata": {},
   "outputs": [
    {
     "data": {
      "text/plain": [
       "'Hello,Marley'"
      ]
     },
     "execution_count": 14,
     "metadata": {},
     "output_type": "execute_result"
    }
   ],
   "source": [
    "a='Hello,'\n",
    "b='Marley'\n",
    "a+b"
   ]
  },
  {
   "cell_type": "code",
   "execution_count": 15,
   "id": "3117747b",
   "metadata": {},
   "outputs": [
    {
     "data": {
      "text/plain": [
       "False"
      ]
     },
     "execution_count": 15,
     "metadata": {},
     "output_type": "execute_result"
    }
   ],
   "source": [
    "x==y"
   ]
  },
  {
   "cell_type": "code",
   "execution_count": 16,
   "id": "5ddf393b",
   "metadata": {},
   "outputs": [
    {
     "data": {
      "text/plain": [
       "bool"
      ]
     },
     "execution_count": 16,
     "metadata": {},
     "output_type": "execute_result"
    }
   ],
   "source": [
    "type(x==y)"
   ]
  },
  {
   "cell_type": "markdown",
   "id": "e6ce1c19",
   "metadata": {},
   "source": [
    "# 03. Task 7 - Coding 3 different ways of reaching 100 by adding or subtracting values"
   ]
  },
  {
   "cell_type": "code",
   "execution_count": 17,
   "id": "7c113479",
   "metadata": {
    "scrolled": true
   },
   "outputs": [
    {
     "data": {
      "text/plain": [
       "100"
      ]
     },
     "execution_count": 17,
     "metadata": {},
     "output_type": "execute_result"
    }
   ],
   "source": [
    "50+50"
   ]
  },
  {
   "cell_type": "code",
   "execution_count": 28,
   "id": "c5421773",
   "metadata": {},
   "outputs": [
    {
     "name": "stdout",
     "output_type": "stream",
     "text": [
      "100\n"
     ]
    }
   ],
   "source": [
    "x=150\n",
    "y=50\n",
    "x=x-y\n",
    "print(x)"
   ]
  },
  {
   "cell_type": "code",
   "execution_count": 30,
   "id": "161c1d66",
   "metadata": {
    "scrolled": false
   },
   "outputs": [
    {
     "name": "stdout",
     "output_type": "stream",
     "text": [
      "100\n"
     ]
    }
   ],
   "source": [
    "z=200\n",
    "x=z-x\n",
    "print(x)"
   ]
  },
  {
   "cell_type": "markdown",
   "id": "cbeb5419",
   "metadata": {},
   "source": [
    "# 04. Task 8 -Coding 2 floating-point varilables and dividing them by each other"
   ]
  },
  {
   "cell_type": "code",
   "execution_count": 31,
   "id": "10b97de1",
   "metadata": {},
   "outputs": [
    {
     "data": {
      "text/plain": [
       "1.2009142857142856"
      ]
     },
     "execution_count": 31,
     "metadata": {},
     "output_type": "execute_result"
    }
   ],
   "source": [
    "a=5.254\n",
    "b=4.375\n",
    "a/b"
   ]
  },
  {
   "cell_type": "markdown",
   "id": "e5db46eb",
   "metadata": {},
   "source": [
    "# 05. Task 9 - Concatenating separate strings"
   ]
  },
  {
   "cell_type": "code",
   "execution_count": 33,
   "id": "ddd7023e",
   "metadata": {},
   "outputs": [
    {
     "data": {
      "text/plain": [
       "'cat'"
      ]
     },
     "execution_count": 33,
     "metadata": {},
     "output_type": "execute_result"
    }
   ],
   "source": [
    "c='c'\n",
    "d='a'\n",
    "e='t'\n",
    "c+d+e"
   ]
  },
  {
   "cell_type": "code",
   "execution_count": 35,
   "id": "d76f19c7",
   "metadata": {},
   "outputs": [
    {
     "data": {
      "text/plain": [
       "('Fun fact:', 'Python is derived from Monty Python!')"
      ]
     },
     "execution_count": 35,
     "metadata": {},
     "output_type": "execute_result"
    }
   ],
   "source": [
    "a= 'Fun fact:'\n",
    "b= 'Python is derived from Monty Python!'\n",
    "a,b"
   ]
  },
  {
   "cell_type": "markdown",
   "id": "55b820a9",
   "metadata": {},
   "source": [
    "# 06. Bonus Task - make a string appear 100 times"
   ]
  },
  {
   "cell_type": "code",
   "execution_count": 37,
   "id": "3d4eb95a",
   "metadata": {},
   "outputs": [
    {
     "name": "stdout",
     "output_type": "stream",
     "text": [
      "('Fun fact:', 'Python is derived from Monty Python!', 'Fun fact:', 'Python is derived from Monty Python!', 'Fun fact:', 'Python is derived from Monty Python!', 'Fun fact:', 'Python is derived from Monty Python!', 'Fun fact:', 'Python is derived from Monty Python!', 'Fun fact:', 'Python is derived from Monty Python!', 'Fun fact:', 'Python is derived from Monty Python!', 'Fun fact:', 'Python is derived from Monty Python!', 'Fun fact:', 'Python is derived from Monty Python!', 'Fun fact:', 'Python is derived from Monty Python!', 'Fun fact:', 'Python is derived from Monty Python!', 'Fun fact:', 'Python is derived from Monty Python!', 'Fun fact:', 'Python is derived from Monty Python!', 'Fun fact:', 'Python is derived from Monty Python!', 'Fun fact:', 'Python is derived from Monty Python!', 'Fun fact:', 'Python is derived from Monty Python!', 'Fun fact:', 'Python is derived from Monty Python!', 'Fun fact:', 'Python is derived from Monty Python!', 'Fun fact:', 'Python is derived from Monty Python!', 'Fun fact:', 'Python is derived from Monty Python!', 'Fun fact:', 'Python is derived from Monty Python!', 'Fun fact:', 'Python is derived from Monty Python!', 'Fun fact:', 'Python is derived from Monty Python!', 'Fun fact:', 'Python is derived from Monty Python!', 'Fun fact:', 'Python is derived from Monty Python!', 'Fun fact:', 'Python is derived from Monty Python!', 'Fun fact:', 'Python is derived from Monty Python!', 'Fun fact:', 'Python is derived from Monty Python!', 'Fun fact:', 'Python is derived from Monty Python!', 'Fun fact:', 'Python is derived from Monty Python!', 'Fun fact:', 'Python is derived from Monty Python!', 'Fun fact:', 'Python is derived from Monty Python!', 'Fun fact:', 'Python is derived from Monty Python!', 'Fun fact:', 'Python is derived from Monty Python!', 'Fun fact:', 'Python is derived from Monty Python!', 'Fun fact:', 'Python is derived from Monty Python!', 'Fun fact:', 'Python is derived from Monty Python!', 'Fun fact:', 'Python is derived from Monty Python!', 'Fun fact:', 'Python is derived from Monty Python!', 'Fun fact:', 'Python is derived from Monty Python!', 'Fun fact:', 'Python is derived from Monty Python!', 'Fun fact:', 'Python is derived from Monty Python!', 'Fun fact:', 'Python is derived from Monty Python!', 'Fun fact:', 'Python is derived from Monty Python!', 'Fun fact:', 'Python is derived from Monty Python!', 'Fun fact:', 'Python is derived from Monty Python!', 'Fun fact:', 'Python is derived from Monty Python!', 'Fun fact:', 'Python is derived from Monty Python!', 'Fun fact:', 'Python is derived from Monty Python!', 'Fun fact:', 'Python is derived from Monty Python!', 'Fun fact:', 'Python is derived from Monty Python!', 'Fun fact:', 'Python is derived from Monty Python!', 'Fun fact:', 'Python is derived from Monty Python!', 'Fun fact:', 'Python is derived from Monty Python!', 'Fun fact:', 'Python is derived from Monty Python!', 'Fun fact:', 'Python is derived from Monty Python!', 'Fun fact:', 'Python is derived from Monty Python!', 'Fun fact:', 'Python is derived from Monty Python!', 'Fun fact:', 'Python is derived from Monty Python!', 'Fun fact:', 'Python is derived from Monty Python!', 'Fun fact:', 'Python is derived from Monty Python!', 'Fun fact:', 'Python is derived from Monty Python!', 'Fun fact:', 'Python is derived from Monty Python!', 'Fun fact:', 'Python is derived from Monty Python!', 'Fun fact:', 'Python is derived from Monty Python!', 'Fun fact:', 'Python is derived from Monty Python!', 'Fun fact:', 'Python is derived from Monty Python!', 'Fun fact:', 'Python is derived from Monty Python!', 'Fun fact:', 'Python is derived from Monty Python!', 'Fun fact:', 'Python is derived from Monty Python!', 'Fun fact:', 'Python is derived from Monty Python!', 'Fun fact:', 'Python is derived from Monty Python!', 'Fun fact:', 'Python is derived from Monty Python!', 'Fun fact:', 'Python is derived from Monty Python!', 'Fun fact:', 'Python is derived from Monty Python!', 'Fun fact:', 'Python is derived from Monty Python!', 'Fun fact:', 'Python is derived from Monty Python!', 'Fun fact:', 'Python is derived from Monty Python!', 'Fun fact:', 'Python is derived from Monty Python!', 'Fun fact:', 'Python is derived from Monty Python!', 'Fun fact:', 'Python is derived from Monty Python!', 'Fun fact:', 'Python is derived from Monty Python!', 'Fun fact:', 'Python is derived from Monty Python!', 'Fun fact:', 'Python is derived from Monty Python!', 'Fun fact:', 'Python is derived from Monty Python!', 'Fun fact:', 'Python is derived from Monty Python!', 'Fun fact:', 'Python is derived from Monty Python!', 'Fun fact:', 'Python is derived from Monty Python!', 'Fun fact:', 'Python is derived from Monty Python!', 'Fun fact:', 'Python is derived from Monty Python!', 'Fun fact:', 'Python is derived from Monty Python!', 'Fun fact:', 'Python is derived from Monty Python!', 'Fun fact:', 'Python is derived from Monty Python!', 'Fun fact:', 'Python is derived from Monty Python!', 'Fun fact:', 'Python is derived from Monty Python!', 'Fun fact:', 'Python is derived from Monty Python!', 'Fun fact:', 'Python is derived from Monty Python!', 'Fun fact:', 'Python is derived from Monty Python!', 'Fun fact:', 'Python is derived from Monty Python!', 'Fun fact:', 'Python is derived from Monty Python!')\n"
     ]
    }
   ],
   "source": [
    "c=a,b\n",
    "d=c*100\n",
    "print(d)"
   ]
  },
  {
   "cell_type": "code",
   "execution_count": null,
   "id": "1e3445d7",
   "metadata": {},
   "outputs": [],
   "source": []
  }
 ],
 "metadata": {
  "kernelspec": {
   "display_name": "Python 3",
   "language": "python",
   "name": "python3"
  },
  "language_info": {
   "codemirror_mode": {
    "name": "ipython",
    "version": 3
   },
   "file_extension": ".py",
   "mimetype": "text/x-python",
   "name": "python",
   "nbconvert_exporter": "python",
   "pygments_lexer": "ipython3",
   "version": "3.8.8"
  }
 },
 "nbformat": 4,
 "nbformat_minor": 5
}
