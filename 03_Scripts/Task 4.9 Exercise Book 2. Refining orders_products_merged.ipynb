{
 "cells": [
  {
   "cell_type": "markdown",
   "id": "7a355de1",
   "metadata": {},
   "source": [
    "# Task Exercise 4.9 Book 2. Refining orders_products_merged"
   ]
  },
  {
   "cell_type": "markdown",
   "id": "f35a8b31",
   "metadata": {},
   "source": [
    "## The senior Instacart officers have given you a new data set of customer information to go along with your product and order data. In part 2 of the task, you’ll need to incorporate this new data set into your project. In part 2, you’ll create some visualizations, conduct some exploratory analysis, and begin wrapping up everything you’ve done in this Achievement in preparation for the final task in the next Exercise, where you’ll write up a report for your client."
   ]
  },
  {
   "cell_type": "markdown",
   "id": "00bc4c13",
   "metadata": {},
   "source": [
    "### Due to the size of the dataframe, this exercise was broken into multiple notebooks to conserve memory.  This notebook is focused on importing the 'orders_products_merged.pkg' dataframe and converting the 'user_id' column from to 'str' to  facilitate merger with 'customers_checked.csv'. \n",
    "\n",
    "\n",
    "## This script contains the following points:\n",
    "\n",
    "## 1. Import 'orders_products_merged\n",
    "\n",
    "\n",
    "## 2. Converting  'user_id'  from 'int64' to 'str'\n",
    "\n",
    "\n",
    "## 3. Export modified 'orders_products_merged.pkl' dataframe"
   ]
  },
  {
   "cell_type": "code",
   "execution_count": null,
   "id": "1ba56b6a",
   "metadata": {},
   "outputs": [],
   "source": []
  },
  {
   "cell_type": "markdown",
   "id": "1962d3b9",
   "metadata": {},
   "source": [
    "## 1. Import 'orders_products_merged.pkl' dataframe"
   ]
  },
  {
   "cell_type": "code",
   "execution_count": 1,
   "id": "a99e9001",
   "metadata": {},
   "outputs": [],
   "source": [
    "# import libraries\n",
    "\n",
    "import pandas as pd\n",
    "import numpy as np\n",
    "import os\n",
    "#import matplotlib.pyplot as plt\n",
    "#import seaborn as sns\n",
    "#import scipy"
   ]
  },
  {
   "cell_type": "code",
   "execution_count": 2,
   "id": "a5dbd7d9",
   "metadata": {},
   "outputs": [],
   "source": [
    "path = r'C:\\Users\\howl6\\OneDrive\\Certificates\\CareerFoundry\\Coursework\\Data_Immersion\\Chapter 4\\Instacart Basket Analysis'"
   ]
  },
  {
   "cell_type": "code",
   "execution_count": 3,
   "id": "5fc41cd4",
   "metadata": {
    "scrolled": true
   },
   "outputs": [],
   "source": [
    "# import 'orders_products_merged.pkl' dataframe\n",
    "\n",
    "ords_prods_merge = pd.read_pickle(os.path.join(path,'02_Data','Prepared_Data', 'orders_products_merged.pkl'))"
   ]
  },
  {
   "cell_type": "code",
   "execution_count": 4,
   "id": "8c2d2643",
   "metadata": {},
   "outputs": [
    {
     "data": {
      "text/html": [
       "<div>\n",
       "<style scoped>\n",
       "    .dataframe tbody tr th:only-of-type {\n",
       "        vertical-align: middle;\n",
       "    }\n",
       "\n",
       "    .dataframe tbody tr th {\n",
       "        vertical-align: top;\n",
       "    }\n",
       "\n",
       "    .dataframe thead th {\n",
       "        text-align: right;\n",
       "    }\n",
       "</style>\n",
       "<table border=\"1\" class=\"dataframe\">\n",
       "  <thead>\n",
       "    <tr style=\"text-align: right;\">\n",
       "      <th></th>\n",
       "      <th>product_id</th>\n",
       "      <th>product_name</th>\n",
       "      <th>aisle_id</th>\n",
       "      <th>department_id</th>\n",
       "      <th>prices</th>\n",
       "      <th>order_id</th>\n",
       "      <th>user_id</th>\n",
       "      <th>order_number</th>\n",
       "      <th>orders_day_of_week</th>\n",
       "      <th>order_time_of_day</th>\n",
       "      <th>...</th>\n",
       "      <th>price_range_loc</th>\n",
       "      <th>busiest_day</th>\n",
       "      <th>busiest_days</th>\n",
       "      <th>busiest_period_of_day</th>\n",
       "      <th>max_order</th>\n",
       "      <th>loyalty_flag</th>\n",
       "      <th>mean_prices</th>\n",
       "      <th>spending_flag</th>\n",
       "      <th>median_days_prior_order</th>\n",
       "      <th>frequency_flag</th>\n",
       "    </tr>\n",
       "  </thead>\n",
       "  <tbody>\n",
       "    <tr>\n",
       "      <th>0</th>\n",
       "      <td>1</td>\n",
       "      <td>Chocolate Sandwich Cookies</td>\n",
       "      <td>61</td>\n",
       "      <td>19</td>\n",
       "      <td>5.8</td>\n",
       "      <td>3139998</td>\n",
       "      <td>138</td>\n",
       "      <td>28</td>\n",
       "      <td>6</td>\n",
       "      <td>11</td>\n",
       "      <td>...</td>\n",
       "      <td>Mid-range product</td>\n",
       "      <td>Regularly busy</td>\n",
       "      <td>Regularly busy</td>\n",
       "      <td>Most orders</td>\n",
       "      <td>32</td>\n",
       "      <td>Regular customer</td>\n",
       "      <td>6.935811</td>\n",
       "      <td>Low spender</td>\n",
       "      <td>8.0</td>\n",
       "      <td>Frequent customer</td>\n",
       "    </tr>\n",
       "    <tr>\n",
       "      <th>1</th>\n",
       "      <td>1</td>\n",
       "      <td>Chocolate Sandwich Cookies</td>\n",
       "      <td>61</td>\n",
       "      <td>19</td>\n",
       "      <td>5.8</td>\n",
       "      <td>1977647</td>\n",
       "      <td>138</td>\n",
       "      <td>30</td>\n",
       "      <td>6</td>\n",
       "      <td>17</td>\n",
       "      <td>...</td>\n",
       "      <td>Mid-range product</td>\n",
       "      <td>Regularly busy</td>\n",
       "      <td>Regularly busy</td>\n",
       "      <td>Most orders</td>\n",
       "      <td>32</td>\n",
       "      <td>Regular customer</td>\n",
       "      <td>6.935811</td>\n",
       "      <td>Low spender</td>\n",
       "      <td>8.0</td>\n",
       "      <td>Frequent customer</td>\n",
       "    </tr>\n",
       "    <tr>\n",
       "      <th>2</th>\n",
       "      <td>1</td>\n",
       "      <td>Chocolate Sandwich Cookies</td>\n",
       "      <td>61</td>\n",
       "      <td>19</td>\n",
       "      <td>5.8</td>\n",
       "      <td>389851</td>\n",
       "      <td>709</td>\n",
       "      <td>2</td>\n",
       "      <td>0</td>\n",
       "      <td>21</td>\n",
       "      <td>...</td>\n",
       "      <td>Mid-range product</td>\n",
       "      <td>Busiest day</td>\n",
       "      <td>Busiest days</td>\n",
       "      <td>Average orders</td>\n",
       "      <td>5</td>\n",
       "      <td>New customer</td>\n",
       "      <td>7.930208</td>\n",
       "      <td>Low spender</td>\n",
       "      <td>8.0</td>\n",
       "      <td>Frequent customer</td>\n",
       "    </tr>\n",
       "    <tr>\n",
       "      <th>3</th>\n",
       "      <td>1</td>\n",
       "      <td>Chocolate Sandwich Cookies</td>\n",
       "      <td>61</td>\n",
       "      <td>19</td>\n",
       "      <td>5.8</td>\n",
       "      <td>652770</td>\n",
       "      <td>764</td>\n",
       "      <td>1</td>\n",
       "      <td>3</td>\n",
       "      <td>13</td>\n",
       "      <td>...</td>\n",
       "      <td>Mid-range product</td>\n",
       "      <td>Regularly busy</td>\n",
       "      <td>Slowest days</td>\n",
       "      <td>Most orders</td>\n",
       "      <td>3</td>\n",
       "      <td>New customer</td>\n",
       "      <td>4.972414</td>\n",
       "      <td>Low spender</td>\n",
       "      <td>9.0</td>\n",
       "      <td>Frequent customer</td>\n",
       "    </tr>\n",
       "    <tr>\n",
       "      <th>4</th>\n",
       "      <td>1</td>\n",
       "      <td>Chocolate Sandwich Cookies</td>\n",
       "      <td>61</td>\n",
       "      <td>19</td>\n",
       "      <td>5.8</td>\n",
       "      <td>1813452</td>\n",
       "      <td>764</td>\n",
       "      <td>3</td>\n",
       "      <td>4</td>\n",
       "      <td>17</td>\n",
       "      <td>...</td>\n",
       "      <td>Mid-range product</td>\n",
       "      <td>Least busy</td>\n",
       "      <td>Slowest days</td>\n",
       "      <td>Most orders</td>\n",
       "      <td>3</td>\n",
       "      <td>New customer</td>\n",
       "      <td>4.972414</td>\n",
       "      <td>Low spender</td>\n",
       "      <td>9.0</td>\n",
       "      <td>Frequent customer</td>\n",
       "    </tr>\n",
       "  </tbody>\n",
       "</table>\n",
       "<p>5 rows × 25 columns</p>\n",
       "</div>"
      ],
      "text/plain": [
       "   product_id                product_name  aisle_id  department_id  prices  \\\n",
       "0           1  Chocolate Sandwich Cookies        61             19     5.8   \n",
       "1           1  Chocolate Sandwich Cookies        61             19     5.8   \n",
       "2           1  Chocolate Sandwich Cookies        61             19     5.8   \n",
       "3           1  Chocolate Sandwich Cookies        61             19     5.8   \n",
       "4           1  Chocolate Sandwich Cookies        61             19     5.8   \n",
       "\n",
       "   order_id  user_id  order_number  orders_day_of_week  order_time_of_day  \\\n",
       "0   3139998      138            28                   6                 11   \n",
       "1   1977647      138            30                   6                 17   \n",
       "2    389851      709             2                   0                 21   \n",
       "3    652770      764             1                   3                 13   \n",
       "4   1813452      764             3                   4                 17   \n",
       "\n",
       "   ...    price_range_loc     busiest_day    busiest_days  \\\n",
       "0  ...  Mid-range product  Regularly busy  Regularly busy   \n",
       "1  ...  Mid-range product  Regularly busy  Regularly busy   \n",
       "2  ...  Mid-range product     Busiest day    Busiest days   \n",
       "3  ...  Mid-range product  Regularly busy    Slowest days   \n",
       "4  ...  Mid-range product      Least busy    Slowest days   \n",
       "\n",
       "   busiest_period_of_day max_order      loyalty_flag mean_prices  \\\n",
       "0            Most orders        32  Regular customer    6.935811   \n",
       "1            Most orders        32  Regular customer    6.935811   \n",
       "2         Average orders         5      New customer    7.930208   \n",
       "3            Most orders         3      New customer    4.972414   \n",
       "4            Most orders         3      New customer    4.972414   \n",
       "\n",
       "  spending_flag median_days_prior_order     frequency_flag  \n",
       "0   Low spender                     8.0  Frequent customer  \n",
       "1   Low spender                     8.0  Frequent customer  \n",
       "2   Low spender                     8.0  Frequent customer  \n",
       "3   Low spender                     9.0  Frequent customer  \n",
       "4   Low spender                     9.0  Frequent customer  \n",
       "\n",
       "[5 rows x 25 columns]"
      ]
     },
     "execution_count": 4,
     "metadata": {},
     "output_type": "execute_result"
    }
   ],
   "source": [
    "# view top 5 rows \n",
    "\n",
    "ords_prods_merge.head()"
   ]
  },
  {
   "cell_type": "code",
   "execution_count": 5,
   "id": "5acb66cb",
   "metadata": {},
   "outputs": [
    {
     "data": {
      "text/plain": [
       "(32404859, 25)"
      ]
     },
     "execution_count": 5,
     "metadata": {},
     "output_type": "execute_result"
    }
   ],
   "source": [
    "# view number of rows, columns\n",
    "\n",
    "ords_prods_merge.shape"
   ]
  },
  {
   "cell_type": "code",
   "execution_count": 6,
   "id": "0b9c630b",
   "metadata": {},
   "outputs": [
    {
     "data": {
      "text/plain": [
       "product_id                    int64\n",
       "product_name                 object\n",
       "aisle_id                      int64\n",
       "department_id                 int64\n",
       "prices                      float64\n",
       "order_id                      int64\n",
       "user_id                       int64\n",
       "order_number                  int64\n",
       "orders_day_of_week            int64\n",
       "order_time_of_day             int64\n",
       "days_since_prior_order      float64\n",
       "first_time_order               bool\n",
       "add_to_cart_order             int64\n",
       "reordered                     int64\n",
       "_merge                     category\n",
       "price_range_loc              object\n",
       "busiest_day                  object\n",
       "busiest_days                 object\n",
       "busiest_period_of_day        object\n",
       "max_order                     int64\n",
       "loyalty_flag                 object\n",
       "mean_prices                 float64\n",
       "spending_flag                object\n",
       "median_days_prior_order     float64\n",
       "frequency_flag               object\n",
       "dtype: object"
      ]
     },
     "execution_count": 6,
     "metadata": {},
     "output_type": "execute_result"
    }
   ],
   "source": [
    "ords_prods_merge.dtypes"
   ]
  },
  {
   "cell_type": "code",
   "execution_count": null,
   "id": "43aeb4e4",
   "metadata": {},
   "outputs": [],
   "source": []
  },
  {
   "cell_type": "markdown",
   "id": "0f80f312",
   "metadata": {},
   "source": [
    "## 2. Convert  'user_id'  from 'int64' to 'str' to faciliate merger with 'customers_checked.csv'"
   ]
  },
  {
   "cell_type": "code",
   "execution_count": null,
   "id": "32c4c1b6",
   "metadata": {},
   "outputs": [],
   "source": [
    "ords_prods_merge['user_id'] = ords_prods_merge['user_id'].astype('str')"
   ]
  },
  {
   "cell_type": "code",
   "execution_count": null,
   "id": "c0b32b65",
   "metadata": {},
   "outputs": [],
   "source": []
  },
  {
   "cell_type": "markdown",
   "id": "7370437f",
   "metadata": {},
   "source": [
    "## 3. Export modified 'orders_products_merged.pkl' dataframe."
   ]
  },
  {
   "cell_type": "code",
   "execution_count": null,
   "id": "0f875554",
   "metadata": {},
   "outputs": [],
   "source": [
    "ords_prods_merge.to_pickle(os.path.join(path, '02_Data','Prepared_Data', 'orders_products_merged.pkl'))"
   ]
  }
 ],
 "metadata": {
  "kernelspec": {
   "display_name": "Python 3",
   "language": "python",
   "name": "python3"
  },
  "language_info": {
   "codemirror_mode": {
    "name": "ipython",
    "version": 3
   },
   "file_extension": ".py",
   "mimetype": "text/x-python",
   "name": "python",
   "nbconvert_exporter": "python",
   "pygments_lexer": "ipython3",
   "version": "3.8.8"
  }
 },
 "nbformat": 4,
 "nbformat_minor": 5
}
