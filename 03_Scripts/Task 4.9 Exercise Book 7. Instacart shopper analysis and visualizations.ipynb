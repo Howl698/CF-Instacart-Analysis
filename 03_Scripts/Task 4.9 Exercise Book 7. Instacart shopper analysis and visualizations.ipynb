{
 "cells": [
  {
   "cell_type": "markdown",
   "id": "0e28477f",
   "metadata": {},
   "source": [
    "# Task Exercise 4.9 - Book 7.  Part 2 - Analysis and visualizations of Instacart sample"
   ]
  },
  {
   "cell_type": "markdown",
   "id": "1f99e5e7",
   "metadata": {},
   "source": [
    "##  The small dataframe sample of the Instacart dataframe will be used to conduct analysis and develop visualizations."
   ]
  },
  {
   "cell_type": "markdown",
   "id": "3d3d5a26",
   "metadata": {},
   "source": [
    "# This script contains the following points:\n",
    "\n",
    "## 1. Import small dataframe\n",
    "\n",
    "## 2. Instacart shopper analysis and visualizations\n",
    "\n",
    "## 3. Sales Histogram\n",
    "\n",
    "## 4. Distribution of orders bar chart\n",
    "\n",
    "## 5. Expenditures by time of day line graph\n",
    "\n",
    "## 6. Family dynamic line graph\n",
    "\n",
    "## 7. Scatterplot of spending power by age\n"
   ]
  },
  {
   "cell_type": "code",
   "execution_count": 1,
   "id": "6a62dca3",
   "metadata": {},
   "outputs": [],
   "source": [
    "# Import panda, numpy, os libraries\n",
    "\n",
    "import pandas as pd\n",
    "import numpy as np\n",
    "import os"
   ]
  },
  {
   "cell_type": "markdown",
   "id": "b36a0143",
   "metadata": {},
   "source": [
    "## 1. Import small dataframe"
   ]
  },
  {
   "cell_type": "code",
   "execution_count": 2,
   "id": "7a2efd37",
   "metadata": {},
   "outputs": [],
   "source": [
    "path = r'C:\\Users\\howl6\\OneDrive\\Certificates\\CareerFoundry\\Coursework\\Data_Immersion\\Chapter 4\\Instacart Basket Analysis'"
   ]
  },
  {
   "cell_type": "code",
   "execution_count": 4,
   "id": "85be8d3a",
   "metadata": {},
   "outputs": [],
   "source": [
    "# Import customers_checked dataframe via terality\n",
    "\n",
    "df_cust = pd.read_pickle(os.path.join(path,'02_Data','Prepared_Data', 'small_cop_sample.pkl'))"
   ]
  },
  {
   "cell_type": "code",
   "execution_count": 5,
   "id": "32d28fdf",
   "metadata": {},
   "outputs": [
    {
     "data": {
      "text/html": [
       "<div>\n",
       "<style scoped>\n",
       "    .dataframe tbody tr th:only-of-type {\n",
       "        vertical-align: middle;\n",
       "    }\n",
       "\n",
       "    .dataframe tbody tr th {\n",
       "        vertical-align: top;\n",
       "    }\n",
       "\n",
       "    .dataframe thead th {\n",
       "        text-align: right;\n",
       "    }\n",
       "</style>\n",
       "<table border=\"1\" class=\"dataframe\">\n",
       "  <thead>\n",
       "    <tr style=\"text-align: right;\">\n",
       "      <th></th>\n",
       "      <th>product_id</th>\n",
       "      <th>product_name</th>\n",
       "      <th>aisle_id</th>\n",
       "      <th>department_id</th>\n",
       "      <th>prices</th>\n",
       "      <th>order_id</th>\n",
       "      <th>user_id</th>\n",
       "      <th>order_number</th>\n",
       "      <th>orders_day_of_week</th>\n",
       "      <th>order_time_of_day</th>\n",
       "      <th>...</th>\n",
       "      <th>first_name</th>\n",
       "      <th>surname</th>\n",
       "      <th>gender</th>\n",
       "      <th>state</th>\n",
       "      <th>age</th>\n",
       "      <th>date_joined</th>\n",
       "      <th>num_of_dependants</th>\n",
       "      <th>family_status</th>\n",
       "      <th>income</th>\n",
       "      <th>_merge</th>\n",
       "    </tr>\n",
       "  </thead>\n",
       "  <tbody>\n",
       "    <tr>\n",
       "      <th>0</th>\n",
       "      <td>1</td>\n",
       "      <td>Chocolate Sandwich Cookies</td>\n",
       "      <td>61</td>\n",
       "      <td>19</td>\n",
       "      <td>5.8</td>\n",
       "      <td>3139998</td>\n",
       "      <td>138</td>\n",
       "      <td>28</td>\n",
       "      <td>6</td>\n",
       "      <td>11</td>\n",
       "      <td>...</td>\n",
       "      <td>Charles</td>\n",
       "      <td>Cox</td>\n",
       "      <td>Male</td>\n",
       "      <td>Minnesota</td>\n",
       "      <td>81</td>\n",
       "      <td>8/1/2019</td>\n",
       "      <td>1</td>\n",
       "      <td>married</td>\n",
       "      <td>49620</td>\n",
       "      <td>both</td>\n",
       "    </tr>\n",
       "    <tr>\n",
       "      <th>2</th>\n",
       "      <td>907</td>\n",
       "      <td>Premium Sliced Bacon</td>\n",
       "      <td>106</td>\n",
       "      <td>12</td>\n",
       "      <td>20.0</td>\n",
       "      <td>3160996</td>\n",
       "      <td>138</td>\n",
       "      <td>1</td>\n",
       "      <td>5</td>\n",
       "      <td>13</td>\n",
       "      <td>...</td>\n",
       "      <td>Charles</td>\n",
       "      <td>Cox</td>\n",
       "      <td>Male</td>\n",
       "      <td>Minnesota</td>\n",
       "      <td>81</td>\n",
       "      <td>8/1/2019</td>\n",
       "      <td>1</td>\n",
       "      <td>married</td>\n",
       "      <td>49620</td>\n",
       "      <td>both</td>\n",
       "    </tr>\n",
       "    <tr>\n",
       "      <th>3</th>\n",
       "      <td>907</td>\n",
       "      <td>Premium Sliced Bacon</td>\n",
       "      <td>106</td>\n",
       "      <td>12</td>\n",
       "      <td>20.0</td>\n",
       "      <td>2254091</td>\n",
       "      <td>138</td>\n",
       "      <td>10</td>\n",
       "      <td>5</td>\n",
       "      <td>14</td>\n",
       "      <td>...</td>\n",
       "      <td>Charles</td>\n",
       "      <td>Cox</td>\n",
       "      <td>Male</td>\n",
       "      <td>Minnesota</td>\n",
       "      <td>81</td>\n",
       "      <td>8/1/2019</td>\n",
       "      <td>1</td>\n",
       "      <td>married</td>\n",
       "      <td>49620</td>\n",
       "      <td>both</td>\n",
       "    </tr>\n",
       "    <tr>\n",
       "      <th>6</th>\n",
       "      <td>4913</td>\n",
       "      <td>Table Water Crackers</td>\n",
       "      <td>78</td>\n",
       "      <td>19</td>\n",
       "      <td>4.4</td>\n",
       "      <td>894221</td>\n",
       "      <td>138</td>\n",
       "      <td>23</td>\n",
       "      <td>5</td>\n",
       "      <td>13</td>\n",
       "      <td>...</td>\n",
       "      <td>Charles</td>\n",
       "      <td>Cox</td>\n",
       "      <td>Male</td>\n",
       "      <td>Minnesota</td>\n",
       "      <td>81</td>\n",
       "      <td>8/1/2019</td>\n",
       "      <td>1</td>\n",
       "      <td>married</td>\n",
       "      <td>49620</td>\n",
       "      <td>both</td>\n",
       "    </tr>\n",
       "    <tr>\n",
       "      <th>10</th>\n",
       "      <td>7987</td>\n",
       "      <td>Hazelnut Spread with Cocoa</td>\n",
       "      <td>88</td>\n",
       "      <td>13</td>\n",
       "      <td>12.8</td>\n",
       "      <td>1592314</td>\n",
       "      <td>138</td>\n",
       "      <td>5</td>\n",
       "      <td>0</td>\n",
       "      <td>9</td>\n",
       "      <td>...</td>\n",
       "      <td>Charles</td>\n",
       "      <td>Cox</td>\n",
       "      <td>Male</td>\n",
       "      <td>Minnesota</td>\n",
       "      <td>81</td>\n",
       "      <td>8/1/2019</td>\n",
       "      <td>1</td>\n",
       "      <td>married</td>\n",
       "      <td>49620</td>\n",
       "      <td>both</td>\n",
       "    </tr>\n",
       "  </tbody>\n",
       "</table>\n",
       "<p>5 rows × 34 columns</p>\n",
       "</div>"
      ],
      "text/plain": [
       "    product_id                product_name  aisle_id  department_id  prices  \\\n",
       "0            1  Chocolate Sandwich Cookies        61             19     5.8   \n",
       "2          907        Premium Sliced Bacon       106             12    20.0   \n",
       "3          907        Premium Sliced Bacon       106             12    20.0   \n",
       "6         4913        Table Water Crackers        78             19     4.4   \n",
       "10        7987  Hazelnut Spread with Cocoa        88             13    12.8   \n",
       "\n",
       "    order_id user_id  order_number  orders_day_of_week  order_time_of_day  \\\n",
       "0    3139998     138            28                   6                 11   \n",
       "2    3160996     138             1                   5                 13   \n",
       "3    2254091     138            10                   5                 14   \n",
       "6     894221     138            23                   5                 13   \n",
       "10   1592314     138             5                   0                  9   \n",
       "\n",
       "    ...  first_name  surname  gender      state age date_joined  \\\n",
       "0   ...     Charles      Cox    Male  Minnesota  81    8/1/2019   \n",
       "2   ...     Charles      Cox    Male  Minnesota  81    8/1/2019   \n",
       "3   ...     Charles      Cox    Male  Minnesota  81    8/1/2019   \n",
       "6   ...     Charles      Cox    Male  Minnesota  81    8/1/2019   \n",
       "10  ...     Charles      Cox    Male  Minnesota  81    8/1/2019   \n",
       "\n",
       "   num_of_dependants family_status  income _merge  \n",
       "0                  1       married   49620   both  \n",
       "2                  1       married   49620   both  \n",
       "3                  1       married   49620   both  \n",
       "6                  1       married   49620   both  \n",
       "10                 1       married   49620   both  \n",
       "\n",
       "[5 rows x 34 columns]"
      ]
     },
     "execution_count": 5,
     "metadata": {},
     "output_type": "execute_result"
    }
   ],
   "source": [
    "df_cust.head()"
   ]
  },
  {
   "cell_type": "code",
   "execution_count": 7,
   "id": "ac7d1316",
   "metadata": {},
   "outputs": [
    {
     "data": {
      "text/html": [
       "<div>\n",
       "<style scoped>\n",
       "    .dataframe tbody tr th:only-of-type {\n",
       "        vertical-align: middle;\n",
       "    }\n",
       "\n",
       "    .dataframe tbody tr th {\n",
       "        vertical-align: top;\n",
       "    }\n",
       "\n",
       "    .dataframe thead th {\n",
       "        text-align: right;\n",
       "    }\n",
       "</style>\n",
       "<table border=\"1\" class=\"dataframe\">\n",
       "  <thead>\n",
       "    <tr style=\"text-align: right;\">\n",
       "      <th></th>\n",
       "      <th>product_id</th>\n",
       "      <th>product_name</th>\n",
       "      <th>aisle_id</th>\n",
       "      <th>department_id</th>\n",
       "      <th>prices</th>\n",
       "      <th>order_id</th>\n",
       "      <th>user_id</th>\n",
       "      <th>order_number</th>\n",
       "      <th>orders_day_of_week</th>\n",
       "      <th>order_time_of_day</th>\n",
       "      <th>...</th>\n",
       "      <th>first_name</th>\n",
       "      <th>surname</th>\n",
       "      <th>gender</th>\n",
       "      <th>state</th>\n",
       "      <th>age</th>\n",
       "      <th>date_joined</th>\n",
       "      <th>num_of_dependants</th>\n",
       "      <th>family_status</th>\n",
       "      <th>income</th>\n",
       "      <th>_merge</th>\n",
       "    </tr>\n",
       "  </thead>\n",
       "  <tbody>\n",
       "    <tr>\n",
       "      <th>32404841</th>\n",
       "      <td>49235</td>\n",
       "      <td>Organic Half &amp; Half</td>\n",
       "      <td>53</td>\n",
       "      <td>16</td>\n",
       "      <td>1.8</td>\n",
       "      <td>2939801</td>\n",
       "      <td>27382</td>\n",
       "      <td>3</td>\n",
       "      <td>3</td>\n",
       "      <td>8</td>\n",
       "      <td>...</td>\n",
       "      <td>Anna</td>\n",
       "      <td>Allison</td>\n",
       "      <td>Female</td>\n",
       "      <td>Vermont</td>\n",
       "      <td>68</td>\n",
       "      <td>11/25/2019</td>\n",
       "      <td>3</td>\n",
       "      <td>married</td>\n",
       "      <td>37867</td>\n",
       "      <td>both</td>\n",
       "    </tr>\n",
       "    <tr>\n",
       "      <th>32404842</th>\n",
       "      <td>49235</td>\n",
       "      <td>Organic Half &amp; Half</td>\n",
       "      <td>53</td>\n",
       "      <td>16</td>\n",
       "      <td>1.8</td>\n",
       "      <td>698928</td>\n",
       "      <td>27382</td>\n",
       "      <td>4</td>\n",
       "      <td>3</td>\n",
       "      <td>7</td>\n",
       "      <td>...</td>\n",
       "      <td>Anna</td>\n",
       "      <td>Allison</td>\n",
       "      <td>Female</td>\n",
       "      <td>Vermont</td>\n",
       "      <td>68</td>\n",
       "      <td>11/25/2019</td>\n",
       "      <td>3</td>\n",
       "      <td>married</td>\n",
       "      <td>37867</td>\n",
       "      <td>both</td>\n",
       "    </tr>\n",
       "    <tr>\n",
       "      <th>32404843</th>\n",
       "      <td>49235</td>\n",
       "      <td>Organic Half &amp; Half</td>\n",
       "      <td>53</td>\n",
       "      <td>16</td>\n",
       "      <td>1.8</td>\n",
       "      <td>3310701</td>\n",
       "      <td>27382</td>\n",
       "      <td>5</td>\n",
       "      <td>3</td>\n",
       "      <td>9</td>\n",
       "      <td>...</td>\n",
       "      <td>Anna</td>\n",
       "      <td>Allison</td>\n",
       "      <td>Female</td>\n",
       "      <td>Vermont</td>\n",
       "      <td>68</td>\n",
       "      <td>11/25/2019</td>\n",
       "      <td>3</td>\n",
       "      <td>married</td>\n",
       "      <td>37867</td>\n",
       "      <td>both</td>\n",
       "    </tr>\n",
       "    <tr>\n",
       "      <th>32404849</th>\n",
       "      <td>49235</td>\n",
       "      <td>Organic Half &amp; Half</td>\n",
       "      <td>53</td>\n",
       "      <td>16</td>\n",
       "      <td>1.8</td>\n",
       "      <td>952054</td>\n",
       "      <td>56454</td>\n",
       "      <td>2</td>\n",
       "      <td>3</td>\n",
       "      <td>9</td>\n",
       "      <td>...</td>\n",
       "      <td>Christopher</td>\n",
       "      <td>Velazquez</td>\n",
       "      <td>Male</td>\n",
       "      <td>Washington</td>\n",
       "      <td>21</td>\n",
       "      <td>2/16/2019</td>\n",
       "      <td>3</td>\n",
       "      <td>living with parents and siblings</td>\n",
       "      <td>27361</td>\n",
       "      <td>both</td>\n",
       "    </tr>\n",
       "    <tr>\n",
       "      <th>32404850</th>\n",
       "      <td>49235</td>\n",
       "      <td>Organic Half &amp; Half</td>\n",
       "      <td>53</td>\n",
       "      <td>16</td>\n",
       "      <td>1.8</td>\n",
       "      <td>1189204</td>\n",
       "      <td>56454</td>\n",
       "      <td>3</td>\n",
       "      <td>1</td>\n",
       "      <td>19</td>\n",
       "      <td>...</td>\n",
       "      <td>Christopher</td>\n",
       "      <td>Velazquez</td>\n",
       "      <td>Male</td>\n",
       "      <td>Washington</td>\n",
       "      <td>21</td>\n",
       "      <td>2/16/2019</td>\n",
       "      <td>3</td>\n",
       "      <td>living with parents and siblings</td>\n",
       "      <td>27361</td>\n",
       "      <td>both</td>\n",
       "    </tr>\n",
       "  </tbody>\n",
       "</table>\n",
       "<p>5 rows × 34 columns</p>\n",
       "</div>"
      ],
      "text/plain": [
       "          product_id         product_name  aisle_id  department_id  prices  \\\n",
       "32404841       49235  Organic Half & Half        53             16     1.8   \n",
       "32404842       49235  Organic Half & Half        53             16     1.8   \n",
       "32404843       49235  Organic Half & Half        53             16     1.8   \n",
       "32404849       49235  Organic Half & Half        53             16     1.8   \n",
       "32404850       49235  Organic Half & Half        53             16     1.8   \n",
       "\n",
       "          order_id user_id  order_number  orders_day_of_week  \\\n",
       "32404841   2939801   27382             3                   3   \n",
       "32404842    698928   27382             4                   3   \n",
       "32404843   3310701   27382             5                   3   \n",
       "32404849    952054   56454             2                   3   \n",
       "32404850   1189204   56454             3                   1   \n",
       "\n",
       "          order_time_of_day  ...   first_name    surname  gender       state  \\\n",
       "32404841                  8  ...         Anna    Allison  Female     Vermont   \n",
       "32404842                  7  ...         Anna    Allison  Female     Vermont   \n",
       "32404843                  9  ...         Anna    Allison  Female     Vermont   \n",
       "32404849                  9  ...  Christopher  Velazquez    Male  Washington   \n",
       "32404850                 19  ...  Christopher  Velazquez    Male  Washington   \n",
       "\n",
       "         age date_joined num_of_dependants                     family_status  \\\n",
       "32404841  68  11/25/2019                 3                           married   \n",
       "32404842  68  11/25/2019                 3                           married   \n",
       "32404843  68  11/25/2019                 3                           married   \n",
       "32404849  21   2/16/2019                 3  living with parents and siblings   \n",
       "32404850  21   2/16/2019                 3  living with parents and siblings   \n",
       "\n",
       "          income _merge  \n",
       "32404841   37867   both  \n",
       "32404842   37867   both  \n",
       "32404843   37867   both  \n",
       "32404849   27361   both  \n",
       "32404850   27361   both  \n",
       "\n",
       "[5 rows x 34 columns]"
      ]
     },
     "execution_count": 7,
     "metadata": {},
     "output_type": "execute_result"
    }
   ],
   "source": [
    "df_cust.tail()"
   ]
  },
  {
   "cell_type": "code",
   "execution_count": 9,
   "id": "f3e7db76",
   "metadata": {},
   "outputs": [
    {
     "data": {
      "text/plain": [
       "product_id                    int64\n",
       "product_name                 object\n",
       "aisle_id                      int64\n",
       "department_id                 int64\n",
       "prices                      float64\n",
       "order_id                      int64\n",
       "user_id                      object\n",
       "order_number                  int64\n",
       "orders_day_of_week            int64\n",
       "order_time_of_day             int64\n",
       "days_since_prior_order      float64\n",
       "first_time_order               bool\n",
       "add_to_cart_order             int64\n",
       "reordered                     int64\n",
       "price_range_loc              object\n",
       "busiest_day                  object\n",
       "busiest_days                 object\n",
       "busiest_period_of_day        object\n",
       "max_order                     int64\n",
       "loyalty_flag                 object\n",
       "mean_prices                 float64\n",
       "spending_flag                object\n",
       "median_days_prior_order     float64\n",
       "frequency_flag               object\n",
       "first_name                   object\n",
       "surname                      object\n",
       "gender                       object\n",
       "state                        object\n",
       "age                           int64\n",
       "date_joined                  object\n",
       "num_of_dependants             int64\n",
       "family_status                object\n",
       "income                        int64\n",
       "_merge                     category\n",
       "dtype: object"
      ]
     },
     "execution_count": 9,
     "metadata": {},
     "output_type": "execute_result"
    }
   ],
   "source": [
    "# Data types\n",
    "\n",
    "df_cust.dtypes"
   ]
  },
  {
   "cell_type": "code",
   "execution_count": 10,
   "id": "d7937307",
   "metadata": {},
   "outputs": [
    {
     "data": {
      "text/plain": [
       "(9721098, 34)"
      ]
     },
     "execution_count": 10,
     "metadata": {},
     "output_type": "execute_result"
    }
   ],
   "source": [
    "df_cust.shape"
   ]
  },
  {
   "cell_type": "code",
   "execution_count": 12,
   "id": "8b55501f",
   "metadata": {},
   "outputs": [
    {
     "data": {
      "text/html": [
       "<div>\n",
       "<style scoped>\n",
       "    .dataframe tbody tr th:only-of-type {\n",
       "        vertical-align: middle;\n",
       "    }\n",
       "\n",
       "    .dataframe tbody tr th {\n",
       "        vertical-align: top;\n",
       "    }\n",
       "\n",
       "    .dataframe thead th {\n",
       "        text-align: right;\n",
       "    }\n",
       "</style>\n",
       "<table border=\"1\" class=\"dataframe\">\n",
       "  <thead>\n",
       "    <tr style=\"text-align: right;\">\n",
       "      <th></th>\n",
       "      <th>product_id</th>\n",
       "      <th>aisle_id</th>\n",
       "      <th>department_id</th>\n",
       "      <th>prices</th>\n",
       "      <th>order_id</th>\n",
       "      <th>order_number</th>\n",
       "      <th>orders_day_of_week</th>\n",
       "      <th>order_time_of_day</th>\n",
       "      <th>days_since_prior_order</th>\n",
       "      <th>add_to_cart_order</th>\n",
       "      <th>reordered</th>\n",
       "      <th>max_order</th>\n",
       "      <th>mean_prices</th>\n",
       "      <th>median_days_prior_order</th>\n",
       "      <th>age</th>\n",
       "      <th>num_of_dependants</th>\n",
       "      <th>income</th>\n",
       "    </tr>\n",
       "  </thead>\n",
       "  <tbody>\n",
       "    <tr>\n",
       "      <th>count</th>\n",
       "      <td>9.721098e+06</td>\n",
       "      <td>9.721098e+06</td>\n",
       "      <td>9.721098e+06</td>\n",
       "      <td>9.721098e+06</td>\n",
       "      <td>9.721098e+06</td>\n",
       "      <td>9.721098e+06</td>\n",
       "      <td>9.721098e+06</td>\n",
       "      <td>9.721098e+06</td>\n",
       "      <td>9.098421e+06</td>\n",
       "      <td>9.721098e+06</td>\n",
       "      <td>9.721098e+06</td>\n",
       "      <td>9.721098e+06</td>\n",
       "      <td>9.721098e+06</td>\n",
       "      <td>9.721096e+06</td>\n",
       "      <td>9.721098e+06</td>\n",
       "      <td>9.721098e+06</td>\n",
       "      <td>9.721098e+06</td>\n",
       "    </tr>\n",
       "    <tr>\n",
       "      <th>mean</th>\n",
       "      <td>2.559919e+04</td>\n",
       "      <td>7.118637e+01</td>\n",
       "      <td>9.916921e+00</td>\n",
       "      <td>1.196327e+01</td>\n",
       "      <td>1.710382e+06</td>\n",
       "      <td>1.714078e+01</td>\n",
       "      <td>2.738444e+00</td>\n",
       "      <td>1.342467e+01</td>\n",
       "      <td>1.110574e+01</td>\n",
       "      <td>8.352290e+00</td>\n",
       "      <td>5.895577e-01</td>\n",
       "      <td>3.304783e+01</td>\n",
       "      <td>1.198767e+01</td>\n",
       "      <td>1.039815e+01</td>\n",
       "      <td>4.946312e+01</td>\n",
       "      <td>1.501945e+00</td>\n",
       "      <td>9.944555e+04</td>\n",
       "    </tr>\n",
       "    <tr>\n",
       "      <th>std</th>\n",
       "      <td>1.408325e+04</td>\n",
       "      <td>3.821429e+01</td>\n",
       "      <td>6.281223e+00</td>\n",
       "      <td>4.923865e+02</td>\n",
       "      <td>9.874306e+05</td>\n",
       "      <td>1.753615e+01</td>\n",
       "      <td>2.089993e+00</td>\n",
       "      <td>4.244412e+00</td>\n",
       "      <td>8.779462e+00</td>\n",
       "      <td>7.126665e+00</td>\n",
       "      <td>4.919141e-01</td>\n",
       "      <td>2.515526e+01</td>\n",
       "      <td>8.257014e+01</td>\n",
       "      <td>7.132534e+00</td>\n",
       "      <td>1.848655e+01</td>\n",
       "      <td>1.118746e+00</td>\n",
       "      <td>4.308561e+04</td>\n",
       "    </tr>\n",
       "    <tr>\n",
       "      <th>min</th>\n",
       "      <td>1.000000e+00</td>\n",
       "      <td>1.000000e+00</td>\n",
       "      <td>1.000000e+00</td>\n",
       "      <td>1.000000e+00</td>\n",
       "      <td>2.000000e+00</td>\n",
       "      <td>1.000000e+00</td>\n",
       "      <td>0.000000e+00</td>\n",
       "      <td>0.000000e+00</td>\n",
       "      <td>0.000000e+00</td>\n",
       "      <td>1.000000e+00</td>\n",
       "      <td>0.000000e+00</td>\n",
       "      <td>1.000000e+00</td>\n",
       "      <td>1.000000e+00</td>\n",
       "      <td>0.000000e+00</td>\n",
       "      <td>1.800000e+01</td>\n",
       "      <td>0.000000e+00</td>\n",
       "      <td>2.590300e+04</td>\n",
       "    </tr>\n",
       "    <tr>\n",
       "      <th>25%</th>\n",
       "      <td>1.354400e+04</td>\n",
       "      <td>3.100000e+01</td>\n",
       "      <td>4.000000e+00</td>\n",
       "      <td>4.200000e+00</td>\n",
       "      <td>8.555800e+05</td>\n",
       "      <td>5.000000e+00</td>\n",
       "      <td>1.000000e+00</td>\n",
       "      <td>1.000000e+01</td>\n",
       "      <td>5.000000e+00</td>\n",
       "      <td>3.000000e+00</td>\n",
       "      <td>0.000000e+00</td>\n",
       "      <td>1.300000e+01</td>\n",
       "      <td>7.386957e+00</td>\n",
       "      <td>6.000000e+00</td>\n",
       "      <td>3.300000e+01</td>\n",
       "      <td>1.000000e+00</td>\n",
       "      <td>6.699100e+04</td>\n",
       "    </tr>\n",
       "    <tr>\n",
       "      <th>50%</th>\n",
       "      <td>2.530900e+04</td>\n",
       "      <td>8.300000e+01</td>\n",
       "      <td>9.000000e+00</td>\n",
       "      <td>7.400000e+00</td>\n",
       "      <td>1.710702e+06</td>\n",
       "      <td>1.100000e+01</td>\n",
       "      <td>3.000000e+00</td>\n",
       "      <td>1.300000e+01</td>\n",
       "      <td>8.000000e+00</td>\n",
       "      <td>6.000000e+00</td>\n",
       "      <td>1.000000e+00</td>\n",
       "      <td>2.600000e+01</td>\n",
       "      <td>7.824688e+00</td>\n",
       "      <td>8.000000e+00</td>\n",
       "      <td>4.900000e+01</td>\n",
       "      <td>2.000000e+00</td>\n",
       "      <td>9.663000e+04</td>\n",
       "    </tr>\n",
       "    <tr>\n",
       "      <th>75%</th>\n",
       "      <td>3.794700e+04</td>\n",
       "      <td>1.070000e+02</td>\n",
       "      <td>1.600000e+01</td>\n",
       "      <td>1.130000e+01</td>\n",
       "      <td>2.565431e+06</td>\n",
       "      <td>2.400000e+01</td>\n",
       "      <td>5.000000e+00</td>\n",
       "      <td>1.600000e+01</td>\n",
       "      <td>1.500000e+01</td>\n",
       "      <td>1.100000e+01</td>\n",
       "      <td>1.000000e+00</td>\n",
       "      <td>4.700000e+01</td>\n",
       "      <td>8.253789e+00</td>\n",
       "      <td>1.300000e+01</td>\n",
       "      <td>6.500000e+01</td>\n",
       "      <td>3.000000e+00</td>\n",
       "      <td>1.279160e+05</td>\n",
       "    </tr>\n",
       "    <tr>\n",
       "      <th>max</th>\n",
       "      <td>4.968800e+04</td>\n",
       "      <td>1.340000e+02</td>\n",
       "      <td>2.100000e+01</td>\n",
       "      <td>9.999900e+04</td>\n",
       "      <td>3.421083e+06</td>\n",
       "      <td>9.900000e+01</td>\n",
       "      <td>6.000000e+00</td>\n",
       "      <td>2.300000e+01</td>\n",
       "      <td>3.000000e+01</td>\n",
       "      <td>1.430000e+02</td>\n",
       "      <td>1.000000e+00</td>\n",
       "      <td>9.900000e+01</td>\n",
       "      <td>1.500694e+04</td>\n",
       "      <td>3.000000e+01</td>\n",
       "      <td>8.100000e+01</td>\n",
       "      <td>3.000000e+00</td>\n",
       "      <td>5.939010e+05</td>\n",
       "    </tr>\n",
       "  </tbody>\n",
       "</table>\n",
       "</div>"
      ],
      "text/plain": [
       "         product_id      aisle_id  department_id        prices      order_id  \\\n",
       "count  9.721098e+06  9.721098e+06   9.721098e+06  9.721098e+06  9.721098e+06   \n",
       "mean   2.559919e+04  7.118637e+01   9.916921e+00  1.196327e+01  1.710382e+06   \n",
       "std    1.408325e+04  3.821429e+01   6.281223e+00  4.923865e+02  9.874306e+05   \n",
       "min    1.000000e+00  1.000000e+00   1.000000e+00  1.000000e+00  2.000000e+00   \n",
       "25%    1.354400e+04  3.100000e+01   4.000000e+00  4.200000e+00  8.555800e+05   \n",
       "50%    2.530900e+04  8.300000e+01   9.000000e+00  7.400000e+00  1.710702e+06   \n",
       "75%    3.794700e+04  1.070000e+02   1.600000e+01  1.130000e+01  2.565431e+06   \n",
       "max    4.968800e+04  1.340000e+02   2.100000e+01  9.999900e+04  3.421083e+06   \n",
       "\n",
       "       order_number  orders_day_of_week  order_time_of_day  \\\n",
       "count  9.721098e+06        9.721098e+06       9.721098e+06   \n",
       "mean   1.714078e+01        2.738444e+00       1.342467e+01   \n",
       "std    1.753615e+01        2.089993e+00       4.244412e+00   \n",
       "min    1.000000e+00        0.000000e+00       0.000000e+00   \n",
       "25%    5.000000e+00        1.000000e+00       1.000000e+01   \n",
       "50%    1.100000e+01        3.000000e+00       1.300000e+01   \n",
       "75%    2.400000e+01        5.000000e+00       1.600000e+01   \n",
       "max    9.900000e+01        6.000000e+00       2.300000e+01   \n",
       "\n",
       "       days_since_prior_order  add_to_cart_order     reordered     max_order  \\\n",
       "count            9.098421e+06       9.721098e+06  9.721098e+06  9.721098e+06   \n",
       "mean             1.110574e+01       8.352290e+00  5.895577e-01  3.304783e+01   \n",
       "std              8.779462e+00       7.126665e+00  4.919141e-01  2.515526e+01   \n",
       "min              0.000000e+00       1.000000e+00  0.000000e+00  1.000000e+00   \n",
       "25%              5.000000e+00       3.000000e+00  0.000000e+00  1.300000e+01   \n",
       "50%              8.000000e+00       6.000000e+00  1.000000e+00  2.600000e+01   \n",
       "75%              1.500000e+01       1.100000e+01  1.000000e+00  4.700000e+01   \n",
       "max              3.000000e+01       1.430000e+02  1.000000e+00  9.900000e+01   \n",
       "\n",
       "        mean_prices  median_days_prior_order           age  num_of_dependants  \\\n",
       "count  9.721098e+06             9.721096e+06  9.721098e+06       9.721098e+06   \n",
       "mean   1.198767e+01             1.039815e+01  4.946312e+01       1.501945e+00   \n",
       "std    8.257014e+01             7.132534e+00  1.848655e+01       1.118746e+00   \n",
       "min    1.000000e+00             0.000000e+00  1.800000e+01       0.000000e+00   \n",
       "25%    7.386957e+00             6.000000e+00  3.300000e+01       1.000000e+00   \n",
       "50%    7.824688e+00             8.000000e+00  4.900000e+01       2.000000e+00   \n",
       "75%    8.253789e+00             1.300000e+01  6.500000e+01       3.000000e+00   \n",
       "max    1.500694e+04             3.000000e+01  8.100000e+01       3.000000e+00   \n",
       "\n",
       "             income  \n",
       "count  9.721098e+06  \n",
       "mean   9.944555e+04  \n",
       "std    4.308561e+04  \n",
       "min    2.590300e+04  \n",
       "25%    6.699100e+04  \n",
       "50%    9.663000e+04  \n",
       "75%    1.279160e+05  \n",
       "max    5.939010e+05  "
      ]
     },
     "execution_count": 12,
     "metadata": {},
     "output_type": "execute_result"
    }
   ],
   "source": [
    "df_cust.describe()"
   ]
  },
  {
   "cell_type": "markdown",
   "id": "19da3396",
   "metadata": {},
   "source": [
    "## 2.  Instacart shopper analysis and visualizations"
   ]
  },
  {
   "cell_type": "code",
   "execution_count": 13,
   "id": "40334f0b",
   "metadata": {},
   "outputs": [],
   "source": [
    "# Import visualization libraries\n",
    "\n",
    "import matplotlib.pyplot as plt\n",
    "import seaborn as sns\n",
    "import scipy"
   ]
  },
  {
   "cell_type": "markdown",
   "id": "7bc6f4cf",
   "metadata": {},
   "source": [
    "## 3. Sales Histogram"
   ]
  },
  {
   "cell_type": "markdown",
   "id": "93cf4b00",
   "metadata": {},
   "source": [
    "## You need to provide the Instacart senior stakeholders with descriptive findings about sales. Create a histogram of the “order_hour_of_day” column. In a markdown cell beneath your histogram, describe what the histogram demonstrates."
   ]
  },
  {
   "cell_type": "code",
   "execution_count": 14,
   "id": "f4c9a8a2",
   "metadata": {
    "scrolled": false
   },
   "outputs": [
    {
     "data": {
      "image/png": "[encoded data removed]",
      "text/plain": [
       "<Figure size 432x288 with 1 Axes>"
      ]
     },
     "metadata": {
      "needs_background": "light"
     },
     "output_type": "display_data"
    }
   ],
   "source": [
    "# Histogram of frequency of orders by time of day.\n",
    "\n",
    "tod_hist = df_cust['order_time_of_day'].plot.hist(bins = 100)"
   ]
  },
  {
   "cell_type": "markdown",
   "id": "b14dd727",
   "metadata": {},
   "source": [
    "### The histogram reflects a range of the highest frequency orders between 9a-5p, with the most frequent orders occurring between 10a-noon.  "
   ]
  },
  {
   "cell_type": "code",
   "execution_count": 18,
   "id": "0afa9d67",
   "metadata": {},
   "outputs": [],
   "source": [
    "# Export histogram as png file\n",
    "\n",
    "tod_hist.figure.savefig(os.path.join(path, '04_Analysis','Visualizations', 'tod_freq_hist.png'))"
   ]
  },
  {
   "cell_type": "markdown",
   "id": "c4c2aeb5",
   "metadata": {},
   "source": [
    "## 4. Distribution of orders bar chart"
   ]
  },
  {
   "cell_type": "markdown",
   "id": "77919bd9",
   "metadata": {},
   "source": [
    "## The marketing team is curious about the distribution of orders among customers in terms of loyalty. Create a bar chart from the “loyalty_flag” column."
   ]
  },
  {
   "cell_type": "code",
   "execution_count": 19,
   "id": "0219d836",
   "metadata": {
    "scrolled": true
   },
   "outputs": [
    {
     "data": {
      "image/png": "[encoded data removed]",
      "text/plain": [
       "<Figure size 432x288 with 1 Axes>"
      ]
     },
     "metadata": {
      "needs_background": "light"
     },
     "output_type": "display_data"
    }
   ],
   "source": [
    "# Bar graph of orders color coded by regular, loyal and new customers.\n",
    "\n",
    "loyal_bar = df_cust['loyalty_flag'].value_counts().plot.bar(color =['green', 'blue', 'orange'])"
   ]
  },
  {
   "cell_type": "markdown",
   "id": "4c476f13",
   "metadata": {},
   "source": [
    "### The bar chart reflects that regular customers (in green) have the most frequent distribution of orders, followed by loyal customers (in blue), then new customers (in orange)."
   ]
  },
  {
   "cell_type": "code",
   "execution_count": 20,
   "id": "5c50d41a",
   "metadata": {},
   "outputs": [],
   "source": [
    "# Export bar graph as png file\n",
    "\n",
    "loyal_bar.figure.savefig(os.path.join(path, '04_Analysis','Visualizations', 'loyal_bar_1.png'))"
   ]
  },
  {
   "cell_type": "markdown",
   "id": "7af2ea5a",
   "metadata": {},
   "source": [
    "## 5. Expenditures by time of day line graph"
   ]
  },
  {
   "cell_type": "markdown",
   "id": "92dd94cf",
   "metadata": {},
   "source": [
    "## Check whether there’s a difference in expenditure (the “prices” column) depending on the hour of the day. (Hint: To check this, you need to use an accurate sample for your line chart!)"
   ]
  },
  {
   "cell_type": "code",
   "execution_count": 21,
   "id": "f21c3c86",
   "metadata": {},
   "outputs": [
    {
     "data": {
      "image/png": "[encoded data removed]",
      "text/plain": [
       "<Figure size 432x288 with 1 Axes>"
      ]
     },
     "metadata": {
      "needs_background": "light"
     },
     "output_type": "display_data"
    }
   ],
   "source": [
    "# Expenditures by time of day\n",
    "\n",
    "exp_line = sns.lineplot(data = df_cust, x = 'order_time_of_day', y = 'prices')"
   ]
  },
  {
   "cell_type": "markdown",
   "id": "96b162a2",
   "metadata": {},
   "source": [
    "### The line chart reflects a spike in expenditures around 2a, followed by a sharp drop.  It picks back up around 4a and remains relatively steady, with spikes again around 8a, 5p, and 7p before dropping off through the remainder of the night."
   ]
  },
  {
   "cell_type": "code",
   "execution_count": 24,
   "id": "02304200",
   "metadata": {},
   "outputs": [],
   "source": [
    "# Export expenditures line graph as png file\n",
    "\n",
    "exp_line.figure.savefig(os.path.join(path, '04_Analysis','Visualizations', 'exp_line_1.png'))"
   ]
  },
  {
   "cell_type": "markdown",
   "id": "d9be3c72",
   "metadata": {},
   "source": [
    "## 6. Family dynamic line graph"
   ]
  },
  {
   "cell_type": "markdown",
   "id": "22873bd9",
   "metadata": {},
   "source": [
    "## Now that you have information about customers, you need to conduct some exploratory analysis of customer demographics to inform the targeted marketing campaigns. First, determine whether there’s a connection between age and family status by creating a line chart exploring the connections between age and number of dependents: In a markdown cell beneath your line chart, describe what the line chart shows.\n"
   ]
  },
  {
   "cell_type": "code",
   "execution_count": 25,
   "id": "e4e5b6e8",
   "metadata": {},
   "outputs": [
    {
     "data": {
      "image/png": "[encoded data removed]",
      "text/plain": [
       "<Figure size 432x288 with 1 Axes>"
      ]
     },
     "metadata": {
      "needs_background": "light"
     },
     "output_type": "display_data"
    }
   ],
   "source": [
    "# Demographics by age\n",
    "\n",
    "age_line = sns.lineplot(data = df_cust, x = 'age', y = 'num_of_dependants')"
   ]
  },
  {
   "cell_type": "markdown",
   "id": "727191bb",
   "metadata": {},
   "source": [
    "### Based on the line chart, demographics for the Instacart customer suggests that number of members of the household is relatively consistent through all age groups, in the range of 1.5 dependants. Having more than 1 dependant doesn't appear to have a strong relationship."
   ]
  },
  {
   "cell_type": "code",
   "execution_count": 26,
   "id": "d74471e9",
   "metadata": {},
   "outputs": [],
   "source": [
    "# Export age line graph as png file\n",
    "\n",
    "age_line.figure.savefig(os.path.join(path, '04_Analysis','Visualizations', 'age_line_1.png'))"
   ]
  },
  {
   "cell_type": "markdown",
   "id": "b17f9231",
   "metadata": {},
   "source": [
    "## You’ll also need to explore whether there’s a connection between age and spending power. To visualize this relationship, create a scatterplot using the sns.scatterplot() function. In a markdown cell beneath your scatterplot, describe what the scatterplot shows."
   ]
  },
  {
   "cell_type": "markdown",
   "id": "3d7a81a8",
   "metadata": {},
   "source": [
    "## 7. Scatterplot of spending power by age"
   ]
  },
  {
   "cell_type": "code",
   "execution_count": 28,
   "id": "d237d673",
   "metadata": {},
   "outputs": [
    {
     "data": {
      "image/png": "[encoded data removed]",
      "text/plain": [
       "<Figure size 432x288 with 1 Axes>"
      ]
     },
     "metadata": {
      "needs_background": "light"
     },
     "output_type": "display_data"
    }
   ],
   "source": [
    "# Scatterplot of income by age of Instacart shoppers\n",
    "\n",
    "scat_power = sns.scatterplot(x = 'age', y = 'income',data = df_cust)"
   ]
  },
  {
   "cell_type": "code",
   "execution_count": 29,
   "id": "f1462633",
   "metadata": {},
   "outputs": [],
   "source": [
    "# Export scatterplot of spending power as png file\n",
    "\n",
    "scat_power.figure.savefig(os.path.join(path, '04_Analysis','Visualizations', 'scat_power_1.png'))"
   ]
  },
  {
   "cell_type": "markdown",
   "id": "e7505445",
   "metadata": {},
   "source": [
    "### The scatterplot reflects a relationship between age and spending power, with a greater number of points noted as age and income increases. The number of points between 0-60k income increases beyond age 40. "
   ]
  }
 ],
 "metadata": {
  "kernelspec": {
   "display_name": "Python 3",
   "language": "python",
   "name": "python3"
  },
  "language_info": {
   "codemirror_mode": {
    "name": "ipython",
    "version": 3
   },
   "file_extension": ".py",
   "mimetype": "text/x-python",
   "name": "python",
   "nbconvert_exporter": "python",
   "pygments_lexer": "ipython3",
   "version": "3.8.8"
  }
 },
 "nbformat": 4,
 "nbformat_minor": 5
}
